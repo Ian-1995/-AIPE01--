{
 "cells": [
  {
   "cell_type": "code",
   "execution_count": 2,
   "id": "fdfe8aed",
   "metadata": {},
   "outputs": [],
   "source": [
    "import pandas as pd\n",
    "import re\n",
    "from transformers import AutoTokenizer, AutoModel\n",
    "import torch"
   ]
  },
  {
   "cell_type": "markdown",
   "id": "4e2ea3e6",
   "metadata": {},
   "source": [
    "## 讀檔案"
   ]
  },
  {
   "cell_type": "code",
   "execution_count": 3,
   "id": "97259ce7",
   "metadata": {},
   "outputs": [
    {
     "name": "stdout",
     "output_type": "stream",
     "text": [
      "<class 'pandas.core.frame.DataFrame'>\n",
      "RangeIndex: 15748 entries, 0 to 15747\n",
      "Data columns (total 46 columns):\n",
      " #   Column  Non-Null Count  Dtype  \n",
      "---  ------  --------------  -----  \n",
      " 0   job_id  15748 non-null  object \n",
      " 1   更新日期    15748 non-null  object \n",
      " 2   查詢職類    15748 non-null  int64  \n",
      " 3   查詢關鍵字   15748 non-null  object \n",
      " 4   職務類別    15748 non-null  object \n",
      " 5   職缺名稱    15748 non-null  object \n",
      " 6   公司名稱    15748 non-null  object \n",
      " 7   公司連結    15748 non-null  object \n",
      " 8   產業別     15748 non-null  object \n",
      " 9   上班地點    15748 non-null  object \n",
      " 10  地區      14577 non-null  object \n",
      " 11  城市      15748 non-null  object \n",
      " 12  國家      15748 non-null  object \n",
      " 13  薪資      15748 non-null  object \n",
      " 14  薪資下限    15748 non-null  int64  \n",
      " 15  薪資上限    15748 non-null  int64  \n",
      " 16  職缺描述    15733 non-null  object \n",
      " 17  職務需求    0 non-null      float64\n",
      " 18  工作經歷要求  15748 non-null  object \n",
      " 19  學歷要求    15748 non-null  object \n",
      " 20  科系要求    8534 non-null   object \n",
      " 21  擅長工具    11180 non-null  object \n",
      " 22  工作技能    7569 non-null   object \n",
      " 23  中文聽力    394 non-null    object \n",
      " 24  中文口說    394 non-null    object \n",
      " 25  中文閱讀    394 non-null    object \n",
      " 26  中文寫作    394 non-null    object \n",
      " 27  英文聽力    7499 non-null   object \n",
      " 28  英文口說    7499 non-null   object \n",
      " 29  英文閱讀    7499 non-null   object \n",
      " 30  英文寫作    7499 non-null   object \n",
      " 31  日文聽力    110 non-null    object \n",
      " 32  日文口說    110 non-null    object \n",
      " 33  日文閱讀    110 non-null    object \n",
      " 34  日文寫作    110 non-null    object \n",
      " 35  台語聽力    0 non-null      float64\n",
      " 36  台語口說    0 non-null      float64\n",
      " 37  台語閱讀    0 non-null      float64\n",
      " 38  台語寫作    0 non-null      float64\n",
      " 39  其他條件    11239 non-null  object \n",
      " 40  福利制度    10737 non-null  object \n",
      " 41  法定福利    10253 non-null  object \n",
      " 42  其他福利    15005 non-null  object \n",
      " 43  面試流程    0 non-null      float64\n",
      " 44  職缺連結    15748 non-null  object \n",
      " 45  爬取時間    15748 non-null  object \n",
      "dtypes: float64(6), int64(3), object(37)\n",
      "memory usage: 5.5+ MB\n"
     ]
    }
   ],
   "source": [
    "df = pd.read_csv(r'104_programmers_jobs.csv')\n",
    "\n",
    "df.info()"
   ]
  },
  {
   "cell_type": "code",
   "execution_count": null,
   "id": "cdc595a0",
   "metadata": {},
   "outputs": [],
   "source": []
  }
 ],
 "metadata": {
  "kernelspec": {
   "display_name": "Python 3",
   "language": "python",
   "name": "python3"
  },
  "language_info": {
   "codemirror_mode": {
    "name": "ipython",
    "version": 3
   },
   "file_extension": ".py",
   "mimetype": "text/x-python",
   "name": "python",
   "nbconvert_exporter": "python",
   "pygments_lexer": "ipython3",
   "version": "3.13.5"
  }
 },
 "nbformat": 4,
 "nbformat_minor": 5
}
