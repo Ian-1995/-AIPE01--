{
 "cells": [
  {
   "cell_type": "code",
   "execution_count": 1,
   "id": "59410a2d",
   "metadata": {},
   "outputs": [],
   "source": [
    "import os\n",
    "import re\n",
    "import time\n",
    "import random\n",
    "import requests\n",
    "from bs4 import BeautifulSoup"
   ]
  },
  {
   "cell_type": "code",
   "execution_count": 9,
   "id": "5b09a015",
   "metadata": {},
   "outputs": [
    {
     "name": "stdout",
     "output_type": "stream",
     "text": [
      "下載完成: frontend.pdf\n",
      "等待 4.04 秒...\n",
      "下載完成: backend.pdf\n",
      "等待 3.52 秒...\n",
      "下載完成: devops.pdf\n",
      "等待 3.49 秒...\n",
      "下載完成: full-stack.pdf\n",
      "等待 4.31 秒...\n",
      "下載完成: ai-engineer.pdf\n",
      "等待 2.57 秒...\n",
      "下載完成: ai-agents.pdf\n",
      "等待 3.25 秒...\n",
      "下載完成: ai-red-teaming.pdf\n",
      "等待 3.32 秒...\n",
      "下載完成: ai-data-scientist.pdf\n",
      "等待 3.19 秒...\n",
      "下載完成: data-analyst.pdf\n",
      "等待 2.34 秒...\n",
      "下載完成: mlops.pdf\n",
      "等待 3.64 秒...\n",
      "下載完成: product-manager.pdf\n",
      "等待 2.18 秒...\n",
      "下載完成: engineering-manager.pdf\n",
      "等待 3.79 秒...\n",
      "下載完成: qa.pdf\n",
      "等待 3.75 秒...\n",
      "下載完成: ios.pdf\n",
      "等待 3.85 秒...\n",
      "下載完成: android.pdf\n",
      "等待 2.72 秒...\n",
      "下載完成: flutter.pdf\n",
      "等待 3.51 秒...\n",
      "下載完成: react.pdf\n",
      "等待 3.97 秒...\n",
      "下載完成: react-native.pdf\n",
      "等待 2.38 秒...\n",
      "下載完成: vue.pdf\n",
      "等待 2.85 秒...\n",
      "下載完成: angular.pdf\n",
      "等待 2.30 秒...\n",
      "下載完成: nodejs.pdf\n",
      "等待 3.96 秒...\n",
      "下載完成: php.pdf\n",
      "等待 4.88 秒...\n",
      "下載完成: python.pdf\n",
      "等待 4.54 秒...\n",
      "下載完成: java.pdf\n",
      "等待 4.47 秒...\n",
      "下載完成: cpp.pdf\n",
      "等待 2.98 秒...\n",
      "下載完成: golang.pdf\n",
      "等待 2.59 秒...\n",
      "下載完成: rust.pdf\n",
      "等待 4.45 秒...\n",
      "下載完成: typescript.pdf\n",
      "等待 2.59 秒...\n",
      "下載完成: javascript.pdf\n",
      "等待 3.72 秒...\n",
      "下載完成: spring-boot.pdf\n",
      "等待 4.85 秒...\n",
      "下載完成: graphql.pdf\n",
      "等待 3.76 秒...\n",
      "下載完成: git-github.pdf\n",
      "等待 3.40 秒...\n",
      "下載完成: docker.pdf\n",
      "等待 3.41 秒...\n",
      "下載完成: kubernetes.pdf\n",
      "等待 4.32 秒...\n",
      "下載完成: aws.pdf\n",
      "等待 3.60 秒...\n",
      "下載完成: cloudflare.pdf\n",
      "等待 4.71 秒...\n",
      "下載完成: linux.pdf\n",
      "等待 2.58 秒...\n",
      "下載完成: terraform.pdf\n",
      "等待 3.00 秒...\n",
      "下載完成: postgresql-dba.pdf\n",
      "等待 4.58 秒...\n",
      "下載完成: sql.pdf\n",
      "等待 2.35 秒...\n",
      "下載完成: mongodb.pdf\n",
      "等待 2.66 秒...\n",
      "下載完成: redis.pdf\n",
      "等待 2.68 秒...\n",
      "下載完成: blockchain.pdf\n",
      "等待 4.17 秒...\n",
      "下載完成: aspnet-core.pdf\n",
      "等待 4.84 秒...\n",
      "下載完成: system-design.pdf\n",
      "等待 2.00 秒...\n",
      "下載完成: software-design-architecture.pdf\n",
      "等待 4.08 秒...\n",
      "下載完成: api-design.pdf\n",
      "等待 4.63 秒...\n",
      "下載完成: datastructures-and-algorithms.pdf\n",
      "等待 3.75 秒...\n",
      "下載完成: ux-design.pdf\n",
      "等待 3.38 秒...\n",
      "下載完成: design-system.pdf\n",
      "等待 3.72 秒...\n",
      "下載完成: technical-writer.pdf\n",
      "等待 2.59 秒...\n",
      "下載完成: devrel.pdf\n",
      "等待 3.89 秒...\n",
      "下載完成: cyber-security.pdf\n",
      "等待 3.41 秒...\n",
      "下載完成: prompt-engineering.pdf\n",
      "等待 3.62 秒...\n",
      "下載完成: game-developer.pdf\n",
      "等待 2.54 秒...\n",
      "下載完成: server-side-game-developer.pdf\n",
      "等待 3.98 秒...\n"
     ]
    }
   ],
   "source": [
    "# 建立儲存 PDF 的資料夾\n",
    "download_dir = \"roadmaps_pdfs\"\n",
    "if not os.path.exists(download_dir):\n",
    "    os.makedirs(download_dir)\n",
    "\n",
    "# 62 個 roadmap.sh 角色名稱（英文名稱，與 PDF 檔名對應）\n",
    "roadmap_names = [\n",
    "    \"frontend\", \"backend\", \"devops\", \"full-stack\",\n",
    "    \"ai-engineer\", \"ai-agents\", \"ai-red-teaming\", \"ai-data-scientist\", \"data-analyst\", \"mlops\", \"product-manager\",\n",
    "    \"engineering-manager\", \"qa\", \"ios\", \"android\", \"flutter\", \"react\", \"react-native\", \"vue\",\n",
    "    \"angular\", \"nodejs\", \"php\", \"python\", \"java\", \"cpp\", \"golang\", \"rust\", \"typescript\", \"javascript\", \"spring-boot\",\n",
    "    \"graphql\", \"git-github\", \"docker\", \"kubernetes\", \"aws\", \"cloudflare\", \"linux\", \"terraform\", \"postgresql-dba\", \"sql\",\n",
    "    \"mongodb\", \"redis\", \"blockchain\", \"aspnet-core\", \"system-design\", \"software-design-architecture\", \"api-design\",\n",
    "    \"datastructures-and-algorithms\", \"ux-design\", \"design-system\", \"technical-writer\", \"devrel\", \"cyber-security\",\n",
    "    \"prompt-engineering\", \"game-developer\", \"server-side-game-developer\"\n",
    "]\n",
    "\n",
    "# 組合 PDF 下載連結\n",
    "base_pdf_url = \"https://roadmap.sh/pdfs/roadmaps/{}.pdf\"\n",
    "pdf_urls = [base_pdf_url.format(name) for name in roadmap_names]\n",
    "\n",
    "# 下載 PDF，並於每次下載後隨機延遲 2~5 秒\n",
    "for url in pdf_urls:\n",
    "    filename = url.split(\"/\")[-1]\n",
    "    filepath = os.path.join(download_dir, filename)\n",
    "    try:\n",
    "        r = requests.get(url, timeout=10)\n",
    "        if r.status_code == 200:\n",
    "            with open(filepath, 'wb') as f:\n",
    "                f.write(r.content)\n",
    "            print(f\"下載完成: {filename}\")\n",
    "        else:\n",
    "            print(f\"下載失敗: {url} (狀態碼: {r.status_code})\")\n",
    "    except Exception as e:\n",
    "        print(f\"下載錯誤: {url} (錯誤: {str(e)})\")\n",
    "    delay = random.uniform(2, 5)\n",
    "    print(f\"等待 {delay:.2f} 秒...\")\n",
    "    time.sleep(delay)"
   ]
  },
  {
   "cell_type": "code",
   "execution_count": null,
   "id": "c9d8ee26",
   "metadata": {},
   "outputs": [],
   "source": [
    "!pip install torch pdfplumber transformers\n",
    "!pip install torch --upgrade\n",
    "!pip install hf_xet"
   ]
  },
  {
   "cell_type": "code",
   "execution_count": 22,
   "id": "7910bef5",
   "metadata": {},
   "outputs": [
    {
     "name": "stdout",
     "output_type": "stream",
     "text": [
      "2.7.1+cpu\n"
     ]
    }
   ],
   "source": [
    "print(torch.__version__)"
   ]
  },
  {
   "cell_type": "code",
   "execution_count": 1,
   "id": "d0efdbb7",
   "metadata": {},
   "outputs": [
    {
     "name": "stderr",
     "output_type": "stream",
     "text": [
      "c:\\Users\\polop\\AppData\\Local\\Programs\\Python\\Python313\\Lib\\site-packages\\tqdm\\auto.py:21: TqdmWarning: IProgress not found. Please update jupyter and ipywidgets. See https://ipywidgets.readthedocs.io/en/stable/user_install.html\n",
      "  from .autonotebook import tqdm as notebook_tqdm\n"
     ]
    }
   ],
   "source": [
    "import os\n",
    "import pdfplumber\n",
    "import torch\n",
    "from transformers import pipeline"
   ]
  },
  {
   "cell_type": "code",
   "execution_count": 2,
   "id": "b83f19bb",
   "metadata": {},
   "outputs": [
    {
     "name": "stderr",
     "output_type": "stream",
     "text": [
      "Xet Storage is enabled for this repo, but the 'hf_xet' package is not installed. Falling back to regular HTTP download. For better performance, install the package with: `pip install huggingface_hub[hf_xet]` or `pip install hf_xet`\n",
      "c:\\Users\\polop\\AppData\\Local\\Programs\\Python\\Python313\\Lib\\site-packages\\huggingface_hub\\file_download.py:143: UserWarning: `huggingface_hub` cache-system uses symlinks by default to efficiently store duplicated files but your machine does not support them in C:\\Users\\polop\\.cache\\huggingface\\hub\\models--facebook--bart-large-cnn. Caching files will still work but in a degraded version that might require more space on your disk. This warning can be disabled by setting the `HF_HUB_DISABLE_SYMLINKS_WARNING` environment variable. For more details, see https://huggingface.co/docs/huggingface_hub/how-to-cache#limitations.\n",
      "To support symlinks on Windows, you either need to activate Developer Mode or to run Python as an administrator. In order to activate developer mode, see this article: https://docs.microsoft.com/en-us/windows/apps/get-started/enable-your-device-for-development\n",
      "  warnings.warn(message)\n",
      "Device set to use cpu\n"
     ]
    },
    {
     "name": "stdout",
     "output_type": "stream",
     "text": [
      "ai-agents.pdf 已完成摘要。\n",
      "ai-data-scientist.pdf 已完成摘要。\n",
      "ai-engineer.pdf 已完成摘要。\n"
     ]
    },
    {
     "ename": "KeyboardInterrupt",
     "evalue": "",
     "output_type": "error",
     "traceback": [
      "\u001b[31m---------------------------------------------------------------------------\u001b[39m",
      "\u001b[31mKeyboardInterrupt\u001b[39m                         Traceback (most recent call last)",
      "\u001b[36mCell\u001b[39m\u001b[36m \u001b[39m\u001b[32mIn[2]\u001b[39m\u001b[32m, line 14\u001b[39m\n\u001b[32m     12\u001b[39m text = \u001b[33m'\u001b[39m\u001b[33m'\u001b[39m\n\u001b[32m     13\u001b[39m \u001b[38;5;28;01mfor\u001b[39;00m page \u001b[38;5;129;01min\u001b[39;00m pdf.pages:\n\u001b[32m---> \u001b[39m\u001b[32m14\u001b[39m     page_text = \u001b[43mpage\u001b[49m\u001b[43m.\u001b[49m\u001b[43mextract_text\u001b[49m\u001b[43m(\u001b[49m\u001b[43m)\u001b[49m\n\u001b[32m     15\u001b[39m     \u001b[38;5;28;01mif\u001b[39;00m page_text:\n\u001b[32m     16\u001b[39m         text += page_text + \u001b[33m'\u001b[39m\u001b[38;5;130;01m\\n\u001b[39;00m\u001b[33m'\u001b[39m\n",
      "\u001b[36mFile \u001b[39m\u001b[32mc:\\Users\\polop\\AppData\\Local\\Programs\\Python\\Python313\\Lib\\site-packages\\pdfplumber\\page.py:530\u001b[39m, in \u001b[36mPage.extract_text\u001b[39m\u001b[34m(self, **kwargs)\u001b[39m\n\u001b[32m    529\u001b[39m \u001b[38;5;28;01mdef\u001b[39;00m\u001b[38;5;250m \u001b[39m\u001b[34mextract_text\u001b[39m(\u001b[38;5;28mself\u001b[39m, **kwargs: Any) -> \u001b[38;5;28mstr\u001b[39m:\n\u001b[32m--> \u001b[39m\u001b[32m530\u001b[39m     \u001b[38;5;28;01mreturn\u001b[39;00m \u001b[38;5;28;43mself\u001b[39;49m\u001b[43m.\u001b[49m\u001b[43mget_textmap\u001b[49m\u001b[43m(\u001b[49m\u001b[43m*\u001b[49m\u001b[43m*\u001b[49m\u001b[43mtuplify_list_kwargs\u001b[49m\u001b[43m(\u001b[49m\u001b[43mkwargs\u001b[49m\u001b[43m)\u001b[49m\u001b[43m)\u001b[49m.as_string\n",
      "\u001b[36mFile \u001b[39m\u001b[32mc:\\Users\\polop\\AppData\\Local\\Programs\\Python\\Python313\\Lib\\site-packages\\pdfplumber\\page.py:507\u001b[39m, in \u001b[36mPage._get_textmap\u001b[39m\u001b[34m(self, **kwargs)\u001b[39m\n\u001b[32m    505\u001b[39m     defaults.update({\u001b[33m\"\u001b[39m\u001b[33mlayout_height\u001b[39m\u001b[33m\"\u001b[39m: \u001b[38;5;28mself\u001b[39m.height})\n\u001b[32m    506\u001b[39m full_kwargs: Dict[\u001b[38;5;28mstr\u001b[39m, Any] = {**defaults, **kwargs}\n\u001b[32m--> \u001b[39m\u001b[32m507\u001b[39m \u001b[38;5;28;01mreturn\u001b[39;00m utils.chars_to_textmap(\u001b[38;5;28;43mself\u001b[39;49m\u001b[43m.\u001b[49m\u001b[43mchars\u001b[49m, **full_kwargs)\n",
      "\u001b[36mFile \u001b[39m\u001b[32mc:\\Users\\polop\\AppData\\Local\\Programs\\Python\\Python313\\Lib\\site-packages\\pdfplumber\\container.py:52\u001b[39m, in \u001b[36mContainer.chars\u001b[39m\u001b[34m(self)\u001b[39m\n\u001b[32m     50\u001b[39m \u001b[38;5;129m@property\u001b[39m\n\u001b[32m     51\u001b[39m \u001b[38;5;28;01mdef\u001b[39;00m\u001b[38;5;250m \u001b[39m\u001b[34mchars\u001b[39m(\u001b[38;5;28mself\u001b[39m) -> T_obj_list:\n\u001b[32m---> \u001b[39m\u001b[32m52\u001b[39m     \u001b[38;5;28;01mreturn\u001b[39;00m \u001b[38;5;28;43mself\u001b[39;49m\u001b[43m.\u001b[49m\u001b[43mobjects\u001b[49m.get(\u001b[33m\"\u001b[39m\u001b[33mchar\u001b[39m\u001b[33m\"\u001b[39m, [])\n",
      "\u001b[36mFile \u001b[39m\u001b[32mc:\\Users\\polop\\AppData\\Local\\Programs\\Python\\Python313\\Lib\\site-packages\\pdfplumber\\page.py:346\u001b[39m, in \u001b[36mPage.objects\u001b[39m\u001b[34m(self)\u001b[39m\n\u001b[32m    344\u001b[39m \u001b[38;5;28;01mif\u001b[39;00m \u001b[38;5;28mhasattr\u001b[39m(\u001b[38;5;28mself\u001b[39m, \u001b[33m\"\u001b[39m\u001b[33m_objects\u001b[39m\u001b[33m\"\u001b[39m):\n\u001b[32m    345\u001b[39m     \u001b[38;5;28;01mreturn\u001b[39;00m \u001b[38;5;28mself\u001b[39m._objects\n\u001b[32m--> \u001b[39m\u001b[32m346\u001b[39m \u001b[38;5;28mself\u001b[39m._objects: Dict[\u001b[38;5;28mstr\u001b[39m, T_obj_list] = \u001b[38;5;28;43mself\u001b[39;49m\u001b[43m.\u001b[49m\u001b[43mparse_objects\u001b[49m\u001b[43m(\u001b[49m\u001b[43m)\u001b[49m\n\u001b[32m    347\u001b[39m \u001b[38;5;28;01mreturn\u001b[39;00m \u001b[38;5;28mself\u001b[39m._objects\n",
      "\u001b[36mFile \u001b[39m\u001b[32mc:\\Users\\polop\\AppData\\Local\\Programs\\Python\\Python313\\Lib\\site-packages\\pdfplumber\\page.py:443\u001b[39m, in \u001b[36mPage.parse_objects\u001b[39m\u001b[34m(self)\u001b[39m\n\u001b[32m    441\u001b[39m \u001b[38;5;28;01mdef\u001b[39;00m\u001b[38;5;250m \u001b[39m\u001b[34mparse_objects\u001b[39m(\u001b[38;5;28mself\u001b[39m) -> Dict[\u001b[38;5;28mstr\u001b[39m, T_obj_list]:\n\u001b[32m    442\u001b[39m     objects: Dict[\u001b[38;5;28mstr\u001b[39m, T_obj_list] = {}\n\u001b[32m--> \u001b[39m\u001b[32m443\u001b[39m     \u001b[38;5;28;01mfor\u001b[39;00m obj \u001b[38;5;129;01min\u001b[39;00m \u001b[38;5;28mself\u001b[39m.iter_layout_objects(\u001b[38;5;28;43mself\u001b[39;49m\u001b[43m.\u001b[49m\u001b[43mlayout\u001b[49m._objs):\n\u001b[32m    444\u001b[39m         kind = obj[\u001b[33m\"\u001b[39m\u001b[33mobject_type\u001b[39m\u001b[33m\"\u001b[39m]\n\u001b[32m    445\u001b[39m         \u001b[38;5;28;01mif\u001b[39;00m kind \u001b[38;5;129;01min\u001b[39;00m [\u001b[33m\"\u001b[39m\u001b[33manno\u001b[39m\u001b[33m\"\u001b[39m]:\n",
      "\u001b[36mFile \u001b[39m\u001b[32mc:\\Users\\polop\\AppData\\Local\\Programs\\Python\\Python313\\Lib\\site-packages\\pdfplumber\\page.py:266\u001b[39m, in \u001b[36mPage.layout\u001b[39m\u001b[34m(self)\u001b[39m\n\u001b[32m    264\u001b[39m interpreter = PDFPageInterpreter(\u001b[38;5;28mself\u001b[39m.pdf.rsrcmgr, device)\n\u001b[32m    265\u001b[39m \u001b[38;5;28;01mtry\u001b[39;00m:\n\u001b[32m--> \u001b[39m\u001b[32m266\u001b[39m     \u001b[43minterpreter\u001b[49m\u001b[43m.\u001b[49m\u001b[43mprocess_page\u001b[49m\u001b[43m(\u001b[49m\u001b[38;5;28;43mself\u001b[39;49m\u001b[43m.\u001b[49m\u001b[43mpage_obj\u001b[49m\u001b[43m)\u001b[49m\n\u001b[32m    267\u001b[39m \u001b[38;5;28;01mexcept\u001b[39;00m \u001b[38;5;167;01mException\u001b[39;00m \u001b[38;5;28;01mas\u001b[39;00m e:\n\u001b[32m    268\u001b[39m     \u001b[38;5;28;01mraise\u001b[39;00m PdfminerException(e)\n",
      "\u001b[36mFile \u001b[39m\u001b[32mc:\\Users\\polop\\AppData\\Local\\Programs\\Python\\Python313\\Lib\\site-packages\\pdfminer\\pdfinterp.py:1210\u001b[39m, in \u001b[36mPDFPageInterpreter.process_page\u001b[39m\u001b[34m(self, page)\u001b[39m\n\u001b[32m   1208\u001b[39m     ctm = (\u001b[32m1\u001b[39m, \u001b[32m0\u001b[39m, \u001b[32m0\u001b[39m, \u001b[32m1\u001b[39m, -x0, -y0)\n\u001b[32m   1209\u001b[39m \u001b[38;5;28mself\u001b[39m.device.begin_page(page, ctm)\n\u001b[32m-> \u001b[39m\u001b[32m1210\u001b[39m \u001b[38;5;28;43mself\u001b[39;49m\u001b[43m.\u001b[49m\u001b[43mrender_contents\u001b[49m\u001b[43m(\u001b[49m\u001b[43mpage\u001b[49m\u001b[43m.\u001b[49m\u001b[43mresources\u001b[49m\u001b[43m,\u001b[49m\u001b[43m \u001b[49m\u001b[43mpage\u001b[49m\u001b[43m.\u001b[49m\u001b[43mcontents\u001b[49m\u001b[43m,\u001b[49m\u001b[43m \u001b[49m\u001b[43mctm\u001b[49m\u001b[43m=\u001b[49m\u001b[43mctm\u001b[49m\u001b[43m)\u001b[49m\n\u001b[32m   1211\u001b[39m \u001b[38;5;28mself\u001b[39m.device.end_page(page)\n",
      "\u001b[36mFile \u001b[39m\u001b[32mc:\\Users\\polop\\AppData\\Local\\Programs\\Python\\Python313\\Lib\\site-packages\\pdfminer\\pdfinterp.py:1231\u001b[39m, in \u001b[36mPDFPageInterpreter.render_contents\u001b[39m\u001b[34m(self, resources, streams, ctm)\u001b[39m\n\u001b[32m   1229\u001b[39m \u001b[38;5;28mself\u001b[39m.init_resources(resources)\n\u001b[32m   1230\u001b[39m \u001b[38;5;28mself\u001b[39m.init_state(ctm)\n\u001b[32m-> \u001b[39m\u001b[32m1231\u001b[39m \u001b[38;5;28;43mself\u001b[39;49m\u001b[43m.\u001b[49m\u001b[43mexecute\u001b[49m\u001b[43m(\u001b[49m\u001b[43mlist_value\u001b[49m\u001b[43m(\u001b[49m\u001b[43mstreams\u001b[49m\u001b[43m)\u001b[49m\u001b[43m)\u001b[49m\n",
      "\u001b[36mFile \u001b[39m\u001b[32mc:\\Users\\polop\\AppData\\Local\\Programs\\Python\\Python313\\Lib\\site-packages\\pdfminer\\pdfinterp.py:1241\u001b[39m, in \u001b[36mPDFPageInterpreter.execute\u001b[39m\u001b[34m(self, streams)\u001b[39m\n\u001b[32m   1239\u001b[39m \u001b[38;5;28;01mwhile\u001b[39;00m \u001b[38;5;28;01mTrue\u001b[39;00m:\n\u001b[32m   1240\u001b[39m     \u001b[38;5;28;01mtry\u001b[39;00m:\n\u001b[32m-> \u001b[39m\u001b[32m1241\u001b[39m         (_, obj) = \u001b[43mparser\u001b[49m\u001b[43m.\u001b[49m\u001b[43mnextobject\u001b[49m\u001b[43m(\u001b[49m\u001b[43m)\u001b[49m\n\u001b[32m   1242\u001b[39m     \u001b[38;5;28;01mexcept\u001b[39;00m PSEOF:\n\u001b[32m   1243\u001b[39m         \u001b[38;5;28;01mbreak\u001b[39;00m\n",
      "\u001b[36mFile \u001b[39m\u001b[32mc:\\Users\\polop\\AppData\\Local\\Programs\\Python\\Python313\\Lib\\site-packages\\pdfminer\\psparser.py:596\u001b[39m, in \u001b[36mPSStackParser.nextobject\u001b[39m\u001b[34m(self)\u001b[39m\n\u001b[32m    588\u001b[39m \u001b[38;5;250m\u001b[39m\u001b[33;03m\"\"\"Yields a list of objects.\u001b[39;00m\n\u001b[32m    589\u001b[39m \n\u001b[32m    590\u001b[39m \u001b[33;03mArrays and dictionaries are represented as Python lists and\u001b[39;00m\n\u001b[32m   (...)\u001b[39m\u001b[32m    593\u001b[39m \u001b[33;03m:return: keywords, literals, strings, numbers, arrays and dictionaries.\u001b[39;00m\n\u001b[32m    594\u001b[39m \u001b[33;03m\"\"\"\u001b[39;00m\n\u001b[32m    595\u001b[39m \u001b[38;5;28;01mwhile\u001b[39;00m \u001b[38;5;129;01mnot\u001b[39;00m \u001b[38;5;28mself\u001b[39m.results:\n\u001b[32m--> \u001b[39m\u001b[32m596\u001b[39m     (pos, token) = \u001b[38;5;28;43mself\u001b[39;49m\u001b[43m.\u001b[49m\u001b[43mnexttoken\u001b[49m\u001b[43m(\u001b[49m\u001b[43m)\u001b[49m\n\u001b[32m    597\u001b[39m     \u001b[38;5;28;01mif\u001b[39;00m \u001b[38;5;28misinstance\u001b[39m(token, (\u001b[38;5;28mint\u001b[39m, \u001b[38;5;28mfloat\u001b[39m, \u001b[38;5;28mbool\u001b[39m, \u001b[38;5;28mstr\u001b[39m, \u001b[38;5;28mbytes\u001b[39m, PSLiteral)):\n\u001b[32m    598\u001b[39m         \u001b[38;5;66;03m# normal token\u001b[39;00m\n\u001b[32m    599\u001b[39m         \u001b[38;5;28mself\u001b[39m.push((pos, token))\n",
      "\u001b[36mFile \u001b[39m\u001b[32mc:\\Users\\polop\\AppData\\Local\\Programs\\Python\\Python313\\Lib\\site-packages\\pdfminer\\psparser.py:509\u001b[39m, in \u001b[36mPSBaseParser.nexttoken\u001b[39m\u001b[34m(self)\u001b[39m\n\u001b[32m    507\u001b[39m \u001b[38;5;28;01mwhile\u001b[39;00m \u001b[38;5;129;01mnot\u001b[39;00m \u001b[38;5;28mself\u001b[39m._tokens:\n\u001b[32m    508\u001b[39m     \u001b[38;5;28;01mtry\u001b[39;00m:\n\u001b[32m--> \u001b[39m\u001b[32m509\u001b[39m         \u001b[38;5;28;43mself\u001b[39;49m\u001b[43m.\u001b[49m\u001b[43mfillbuf\u001b[49m\u001b[43m(\u001b[49m\u001b[43m)\u001b[49m\n\u001b[32m    510\u001b[39m         \u001b[38;5;28mself\u001b[39m.charpos = \u001b[38;5;28mself\u001b[39m._parse1(\u001b[38;5;28mself\u001b[39m.buf, \u001b[38;5;28mself\u001b[39m.charpos)\n\u001b[32m    511\u001b[39m     \u001b[38;5;28;01mexcept\u001b[39;00m PSEOF:\n\u001b[32m    512\u001b[39m         \u001b[38;5;66;03m# If we hit EOF in the middle of a token, try to parse\u001b[39;00m\n\u001b[32m    513\u001b[39m         \u001b[38;5;66;03m# it by tacking on whitespace, and delay raising PSEOF\u001b[39;00m\n\u001b[32m    514\u001b[39m         \u001b[38;5;66;03m# until next time around\u001b[39;00m\n",
      "\u001b[36mFile \u001b[39m\u001b[32mc:\\Users\\polop\\AppData\\Local\\Programs\\Python\\Python313\\Lib\\site-packages\\pdfminer\\pdfinterp.py:275\u001b[39m, in \u001b[36mPDFContentParser.fillbuf\u001b[39m\u001b[34m(self)\u001b[39m\n\u001b[32m    272\u001b[39m     \u001b[38;5;28mself\u001b[39m.fillfp()\n\u001b[32m    273\u001b[39m     PSStackParser.seek(\u001b[38;5;28mself\u001b[39m, pos)\n\u001b[32m--> \u001b[39m\u001b[32m275\u001b[39m \u001b[38;5;28;01mdef\u001b[39;00m\u001b[38;5;250m \u001b[39m\u001b[34mfillbuf\u001b[39m(\u001b[38;5;28mself\u001b[39m) -> \u001b[38;5;28;01mNone\u001b[39;00m:\n\u001b[32m    276\u001b[39m     \u001b[38;5;28;01mif\u001b[39;00m \u001b[38;5;28mself\u001b[39m.charpos < \u001b[38;5;28mlen\u001b[39m(\u001b[38;5;28mself\u001b[39m.buf):\n\u001b[32m    277\u001b[39m         \u001b[38;5;28;01mreturn\u001b[39;00m\n",
      "\u001b[31mKeyboardInterrupt\u001b[39m: "
     ]
    }
   ],
   "source": [
    "# 設定相對路徑\n",
    "pdf_folder = os.path.join('.', 'roadmaps_pdfs')\n",
    "output_folder = os.path.join('.', 'pdf_summaries')\n",
    "os.makedirs(output_folder, exist_ok=True)\n",
    "\n",
    "summarizer = pipeline(\"summarization\", model=\"facebook/bart-large-cnn\")\n",
    "pdf_files = [f for f in os.listdir(pdf_folder) if f.lower().endswith('.pdf')]\n",
    "\n",
    "for pdf_file in pdf_files:\n",
    "    pdf_path = os.path.join(pdf_folder, pdf_file)\n",
    "    with pdfplumber.open(pdf_path) as pdf:\n",
    "        text = ''\n",
    "        for page in pdf.pages:\n",
    "            page_text = page.extract_text()\n",
    "            if page_text:\n",
    "                text += page_text + '\\n'\n",
    "    if len(text) > 3500:\n",
    "        text = text[:3500]\n",
    "    summary = summarizer(text, max_length=150, min_length=40, do_sample=False)\n",
    "    summary_text = summary[0]['summary_text']\n",
    "    summary_filename = os.path.splitext(pdf_file)[0] + '_summary.txt'\n",
    "    with open(os.path.join(output_folder, summary_filename), 'w', encoding='utf-8') as f:\n",
    "        f.write(summary_text)\n",
    "    print(f\"{pdf_file} 已完成摘要。\")"
   ]
  },
  {
   "cell_type": "code",
   "execution_count": null,
   "id": "730b27bd",
   "metadata": {},
   "outputs": [],
   "source": []
  },
  {
   "cell_type": "code",
   "execution_count": null,
   "id": "9018cd9a",
   "metadata": {},
   "outputs": [],
   "source": []
  }
 ],
 "metadata": {
  "kernelspec": {
   "display_name": "Python 3",
   "language": "python",
   "name": "python3"
  },
  "language_info": {
   "codemirror_mode": {
    "name": "ipython",
    "version": 3
   },
   "file_extension": ".py",
   "mimetype": "text/x-python",
   "name": "python",
   "nbconvert_exporter": "python",
   "pygments_lexer": "ipython3",
   "version": "3.13.3"
  }
 },
 "nbformat": 4,
 "nbformat_minor": 5
}
