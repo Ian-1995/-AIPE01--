{
 "cells": [
  {
   "cell_type": "code",
   "execution_count": 2,
   "id": "0f23df76",
   "metadata": {},
   "outputs": [],
   "source": [
    "import requests\n",
    "import json\n",
    "from pprint import pp\n",
    "# Import necessary libraries\n",
    "## 設定 OpenAI API Key 變數\n",
    "from dotenv import load_dotenv\n",
    "import os\n",
    "from tqdm import tqdm\n",
    "import pandas as pd\n",
    "\n",
    "# Load the environment variables from .env file\n",
    "load_dotenv()\n",
    "\n",
    "# Access the API key\n",
    "openai_api_key = os.getenv('OPENAI_API_KEY')"
   ]
  },
  {
   "cell_type": "code",
   "execution_count": 3,
   "id": "a5e02250",
   "metadata": {},
   "outputs": [],
   "source": [
    "# 定義模型\n",
    "def get_embeddings(text, dimensions = 256, model=\"text-embedding-3-small\"):\n",
    "  url = \"https://api.openai.com/v1/embeddings\"\n",
    "  payload = { \n",
    "    \"input\": text, \n",
    "    \"model\": model, \n",
    "    \"dimensions\": dimensions \n",
    "    }\n",
    "  headers = { \n",
    "    \"Authorization\": f'Bearer {openai_api_key}', \n",
    "    \"Content-Type\": \"application/json\" \n",
    "    }\n",
    "  response = requests.post(url, headers=headers, data=json.dumps(payload))\n",
    "  \n",
    "  if response.status_code == 200 :\n",
    "    return json.loads(response.text)[\"data\"][0][\"embedding\"]\n",
    "  else :\n",
    "    print(f\"錯誤（status {response.status_code}）: {response.text}\")\n",
    "    return None"
   ]
  },
  {
   "cell_type": "code",
   "execution_count": 10,
   "id": "5c70c2e6",
   "metadata": {},
   "outputs": [
    {
     "name": "stdout",
     "output_type": "stream",
     "text": [
      "<class 'pandas.core.frame.DataFrame'>\n",
      "RangeIndex: 100 entries, 0 to 99\n",
      "Data columns (total 56 columns):\n",
      " #   Column    Non-Null Count  Dtype \n",
      "---  ------    --------------  ----- \n",
      " 0   課程名稱      100 non-null    object\n",
      " 1   評分        68 non-null     object\n",
      " 2   評論數       68 non-null     object\n",
      " 3   Metadata  100 non-null    object\n",
      " 4   課程網址      100 non-null    object\n",
      " 5   課程        72 non-null     object\n",
      " 6   技能        98 non-null     object\n",
      " 7   課程資訊      89 non-null     object\n",
      " 8   師資        92 non-null     object\n",
      " 9   開課時間      89 non-null     object\n",
      " 10  建議學習時間    94 non-null     object\n",
      " 11  學習時長      76 non-null     object\n",
      " 12  課程相關總描述   100 non-null    object\n",
      " 13  技能1       100 non-null    object\n",
      " 14  技能2       99 non-null     object\n",
      " 15  技能3       99 non-null     object\n",
      " 16  技能4       99 non-null     object\n",
      " 17  技能5       99 non-null     object\n",
      " 18  技能6       96 non-null     object\n",
      " 19  技能7       91 non-null     object\n",
      " 20  技能8       87 non-null     object\n",
      " 21  技能9       84 non-null     object\n",
      " 22  技能10      82 non-null     object\n",
      " 23  技能11      73 non-null     object\n",
      " 24  技能12      65 non-null     object\n",
      " 25  技能13      58 non-null     object\n",
      " 26  技能14      49 non-null     object\n",
      " 27  技能15      42 non-null     object\n",
      " 28  技能16      30 non-null     object\n",
      " 29  技能17      25 non-null     object\n",
      " 30  技能18      22 non-null     object\n",
      " 31  技能19      18 non-null     object\n",
      " 32  技能20      15 non-null     object\n",
      " 33  技能21      11 non-null     object\n",
      " 34  技能22      11 non-null     object\n",
      " 35  技能23      11 non-null     object\n",
      " 36  技能24      11 non-null     object\n",
      " 37  技能25      10 non-null     object\n",
      " 38  技能26      10 non-null     object\n",
      " 39  技能27      9 non-null      object\n",
      " 40  技能28      8 non-null      object\n",
      " 41  技能29      8 non-null      object\n",
      " 42  技能30      7 non-null      object\n",
      " 43  技能31      6 non-null      object\n",
      " 44  技能32      5 non-null      object\n",
      " 45  技能33      5 non-null      object\n",
      " 46  技能34      3 non-null      object\n",
      " 47  技能35      3 non-null      object\n",
      " 48  技能36      3 non-null      object\n",
      " 49  技能37      3 non-null      object\n",
      " 50  技能38      3 non-null      object\n",
      " 51  技能39      2 non-null      object\n",
      " 52  技能40      2 non-null      object\n",
      " 53  技能41      2 non-null      object\n",
      " 54  技能42      2 non-null      object\n",
      " 55  技能43      1 non-null      object\n",
      "dtypes: object(56)\n",
      "memory usage: 43.9+ KB\n"
     ]
    }
   ],
   "source": [
    "# 載入 CSV\n",
    "df = pd.read_csv(r\"C:\\Users\\user\\Desktop\\期末專題\\prompt提取技能\\coursera_skills_1140721.csv\")\n",
    "# df = df .drop(columns=\"技能\")\n",
    "df.info()"
   ]
  },
  {
   "cell_type": "code",
   "execution_count": 11,
   "id": "4c1268f7",
   "metadata": {},
   "outputs": [
    {
     "name": "stderr",
     "output_type": "stream",
     "text": [
      "  0%|          | 0/44 [00:00<?, ?it/s]"
     ]
    },
    {
     "name": "stdout",
     "output_type": "stream",
     "text": [
      "▶️ 處理欄位：技能\n"
     ]
    },
    {
     "name": "stderr",
     "output_type": "stream",
     "text": [
      "  2%|▏         | 1/44 [00:55<40:07, 55.99s/it]"
     ]
    },
    {
     "name": "stdout",
     "output_type": "stream",
     "text": [
      "▶️ 處理欄位：技能1\n"
     ]
    },
    {
     "name": "stderr",
     "output_type": "stream",
     "text": [
      "  5%|▍         | 2/44 [01:41<35:03, 50.07s/it]"
     ]
    },
    {
     "name": "stdout",
     "output_type": "stream",
     "text": [
      "▶️ 處理欄位：技能2\n"
     ]
    },
    {
     "name": "stderr",
     "output_type": "stream",
     "text": [
      "  7%|▋         | 3/44 [02:34<34:56, 51.14s/it]"
     ]
    },
    {
     "name": "stdout",
     "output_type": "stream",
     "text": [
      "▶️ 處理欄位：技能3\n"
     ]
    },
    {
     "name": "stderr",
     "output_type": "stream",
     "text": [
      "  9%|▉         | 4/44 [03:21<33:06, 49.67s/it]"
     ]
    },
    {
     "name": "stdout",
     "output_type": "stream",
     "text": [
      "▶️ 處理欄位：技能4\n"
     ]
    },
    {
     "name": "stderr",
     "output_type": "stream",
     "text": [
      " 11%|█▏        | 5/44 [04:10<32:07, 49.41s/it]"
     ]
    },
    {
     "name": "stdout",
     "output_type": "stream",
     "text": [
      "▶️ 處理欄位：技能5\n"
     ]
    },
    {
     "name": "stderr",
     "output_type": "stream",
     "text": [
      " 14%|█▎        | 6/44 [04:57<30:44, 48.55s/it]"
     ]
    },
    {
     "name": "stdout",
     "output_type": "stream",
     "text": [
      "▶️ 處理欄位：技能6\n"
     ]
    },
    {
     "name": "stderr",
     "output_type": "stream",
     "text": [
      " 16%|█▌        | 7/44 [05:43<29:24, 47.68s/it]"
     ]
    },
    {
     "name": "stdout",
     "output_type": "stream",
     "text": [
      "▶️ 處理欄位：技能7\n"
     ]
    },
    {
     "name": "stderr",
     "output_type": "stream",
     "text": [
      " 18%|█▊        | 8/44 [06:36<29:39, 49.42s/it]"
     ]
    },
    {
     "name": "stdout",
     "output_type": "stream",
     "text": [
      "▶️ 處理欄位：技能8\n"
     ]
    },
    {
     "name": "stderr",
     "output_type": "stream",
     "text": [
      " 20%|██        | 9/44 [07:23<28:16, 48.48s/it]"
     ]
    },
    {
     "name": "stdout",
     "output_type": "stream",
     "text": [
      "▶️ 處理欄位：技能9\n"
     ]
    },
    {
     "name": "stderr",
     "output_type": "stream",
     "text": [
      " 23%|██▎       | 10/44 [08:05<26:21, 46.51s/it]"
     ]
    },
    {
     "name": "stdout",
     "output_type": "stream",
     "text": [
      "▶️ 處理欄位：技能10\n"
     ]
    },
    {
     "name": "stderr",
     "output_type": "stream",
     "text": [
      " 25%|██▌       | 11/44 [10:59<47:04, 85.60s/it]"
     ]
    },
    {
     "name": "stdout",
     "output_type": "stream",
     "text": [
      "▶️ 處理欄位：技能11\n"
     ]
    },
    {
     "name": "stderr",
     "output_type": "stream",
     "text": [
      " 27%|██▋       | 12/44 [11:41<38:35, 72.35s/it]"
     ]
    },
    {
     "name": "stdout",
     "output_type": "stream",
     "text": [
      "▶️ 處理欄位：技能12\n"
     ]
    },
    {
     "name": "stderr",
     "output_type": "stream",
     "text": [
      " 30%|██▉       | 13/44 [12:16<31:29, 60.95s/it]"
     ]
    },
    {
     "name": "stdout",
     "output_type": "stream",
     "text": [
      "▶️ 處理欄位：技能13\n"
     ]
    },
    {
     "name": "stderr",
     "output_type": "stream",
     "text": [
      " 32%|███▏      | 14/44 [12:42<25:16, 50.54s/it]"
     ]
    },
    {
     "name": "stdout",
     "output_type": "stream",
     "text": [
      "▶️ 處理欄位：技能14\n"
     ]
    },
    {
     "name": "stderr",
     "output_type": "stream",
     "text": [
      " 34%|███▍      | 15/44 [13:06<20:33, 42.55s/it]"
     ]
    },
    {
     "name": "stdout",
     "output_type": "stream",
     "text": [
      "▶️ 處理欄位：技能15\n"
     ]
    },
    {
     "name": "stderr",
     "output_type": "stream",
     "text": [
      " 36%|███▋      | 16/44 [13:25<16:32, 35.43s/it]"
     ]
    },
    {
     "name": "stdout",
     "output_type": "stream",
     "text": [
      "▶️ 處理欄位：技能16\n"
     ]
    },
    {
     "name": "stderr",
     "output_type": "stream",
     "text": [
      " 39%|███▊      | 17/44 [13:38<12:50, 28.55s/it]"
     ]
    },
    {
     "name": "stdout",
     "output_type": "stream",
     "text": [
      "▶️ 處理欄位：技能17\n"
     ]
    },
    {
     "name": "stderr",
     "output_type": "stream",
     "text": [
      " 41%|████      | 18/44 [13:49<10:11, 23.51s/it]"
     ]
    },
    {
     "name": "stdout",
     "output_type": "stream",
     "text": [
      "▶️ 處理欄位：技能18\n"
     ]
    },
    {
     "name": "stderr",
     "output_type": "stream",
     "text": [
      " 43%|████▎     | 19/44 [14:01<08:21, 20.06s/it]"
     ]
    },
    {
     "name": "stdout",
     "output_type": "stream",
     "text": [
      "▶️ 處理欄位：技能19\n"
     ]
    },
    {
     "name": "stderr",
     "output_type": "stream",
     "text": [
      " 45%|████▌     | 20/44 [14:11<06:46, 16.93s/it]"
     ]
    },
    {
     "name": "stdout",
     "output_type": "stream",
     "text": [
      "▶️ 處理欄位：技能20\n"
     ]
    },
    {
     "name": "stderr",
     "output_type": "stream",
     "text": [
      " 48%|████▊     | 21/44 [14:19<05:24, 14.12s/it]"
     ]
    },
    {
     "name": "stdout",
     "output_type": "stream",
     "text": [
      "▶️ 處理欄位：技能21\n"
     ]
    },
    {
     "name": "stderr",
     "output_type": "stream",
     "text": [
      " 50%|█████     | 22/44 [14:25<04:17, 11.69s/it]"
     ]
    },
    {
     "name": "stdout",
     "output_type": "stream",
     "text": [
      "▶️ 處理欄位：技能22\n"
     ]
    },
    {
     "name": "stderr",
     "output_type": "stream",
     "text": [
      " 52%|█████▏    | 23/44 [14:30<03:28,  9.94s/it]"
     ]
    },
    {
     "name": "stdout",
     "output_type": "stream",
     "text": [
      "▶️ 處理欄位：技能23\n"
     ]
    },
    {
     "name": "stderr",
     "output_type": "stream",
     "text": [
      " 55%|█████▍    | 24/44 [14:37<02:56,  8.81s/it]"
     ]
    },
    {
     "name": "stdout",
     "output_type": "stream",
     "text": [
      "▶️ 處理欄位：技能24\n"
     ]
    },
    {
     "name": "stderr",
     "output_type": "stream",
     "text": [
      " 57%|█████▋    | 25/44 [14:41<02:24,  7.62s/it]"
     ]
    },
    {
     "name": "stdout",
     "output_type": "stream",
     "text": [
      "▶️ 處理欄位：技能25\n"
     ]
    },
    {
     "name": "stderr",
     "output_type": "stream",
     "text": [
      " 59%|█████▉    | 26/44 [14:49<02:14,  7.49s/it]"
     ]
    },
    {
     "name": "stdout",
     "output_type": "stream",
     "text": [
      "▶️ 處理欄位：技能26\n"
     ]
    },
    {
     "name": "stderr",
     "output_type": "stream",
     "text": [
      " 61%|██████▏   | 27/44 [14:53<01:51,  6.56s/it]"
     ]
    },
    {
     "name": "stdout",
     "output_type": "stream",
     "text": [
      "▶️ 處理欄位：技能27\n"
     ]
    },
    {
     "name": "stderr",
     "output_type": "stream",
     "text": [
      " 64%|██████▎   | 28/44 [14:57<01:32,  5.80s/it]"
     ]
    },
    {
     "name": "stdout",
     "output_type": "stream",
     "text": [
      "▶️ 處理欄位：技能28\n"
     ]
    },
    {
     "name": "stderr",
     "output_type": "stream",
     "text": [
      " 66%|██████▌   | 29/44 [15:02<01:21,  5.46s/it]"
     ]
    },
    {
     "name": "stdout",
     "output_type": "stream",
     "text": [
      "▶️ 處理欄位：技能29\n"
     ]
    },
    {
     "name": "stderr",
     "output_type": "stream",
     "text": [
      " 68%|██████▊   | 30/44 [15:08<01:18,  5.64s/it]"
     ]
    },
    {
     "name": "stdout",
     "output_type": "stream",
     "text": [
      "▶️ 處理欄位：技能30\n"
     ]
    },
    {
     "name": "stderr",
     "output_type": "stream",
     "text": [
      " 70%|███████   | 31/44 [15:13<01:10,  5.40s/it]"
     ]
    },
    {
     "name": "stdout",
     "output_type": "stream",
     "text": [
      "▶️ 處理欄位：技能31\n"
     ]
    },
    {
     "name": "stderr",
     "output_type": "stream",
     "text": [
      " 73%|███████▎  | 32/44 [15:15<00:55,  4.59s/it]"
     ]
    },
    {
     "name": "stdout",
     "output_type": "stream",
     "text": [
      "▶️ 處理欄位：技能32\n"
     ]
    },
    {
     "name": "stderr",
     "output_type": "stream",
     "text": [
      " 75%|███████▌  | 33/44 [15:18<00:44,  4.00s/it]"
     ]
    },
    {
     "name": "stdout",
     "output_type": "stream",
     "text": [
      "▶️ 處理欄位：技能33\n"
     ]
    },
    {
     "name": "stderr",
     "output_type": "stream",
     "text": [
      " 77%|███████▋  | 34/44 [15:20<00:34,  3.47s/it]"
     ]
    },
    {
     "name": "stdout",
     "output_type": "stream",
     "text": [
      "▶️ 處理欄位：技能34\n"
     ]
    },
    {
     "name": "stderr",
     "output_type": "stream",
     "text": [
      " 80%|███████▉  | 35/44 [15:22<00:25,  2.88s/it]"
     ]
    },
    {
     "name": "stdout",
     "output_type": "stream",
     "text": [
      "▶️ 處理欄位：技能35\n"
     ]
    },
    {
     "name": "stderr",
     "output_type": "stream",
     "text": [
      " 82%|████████▏ | 36/44 [15:23<00:19,  2.50s/it]"
     ]
    },
    {
     "name": "stdout",
     "output_type": "stream",
     "text": [
      "▶️ 處理欄位：技能36\n"
     ]
    },
    {
     "name": "stderr",
     "output_type": "stream",
     "text": [
      " 84%|████████▍ | 37/44 [15:25<00:15,  2.24s/it]"
     ]
    },
    {
     "name": "stdout",
     "output_type": "stream",
     "text": [
      "▶️ 處理欄位：技能37\n"
     ]
    },
    {
     "name": "stderr",
     "output_type": "stream",
     "text": [
      " 86%|████████▋ | 38/44 [15:27<00:12,  2.14s/it]"
     ]
    },
    {
     "name": "stdout",
     "output_type": "stream",
     "text": [
      "▶️ 處理欄位：技能38\n"
     ]
    },
    {
     "name": "stderr",
     "output_type": "stream",
     "text": [
      " 89%|████████▊ | 39/44 [15:32<00:14,  2.95s/it]"
     ]
    },
    {
     "name": "stdout",
     "output_type": "stream",
     "text": [
      "▶️ 處理欄位：技能39\n"
     ]
    },
    {
     "name": "stderr",
     "output_type": "stream",
     "text": [
      " 91%|█████████ | 40/44 [15:33<00:09,  2.32s/it]"
     ]
    },
    {
     "name": "stdout",
     "output_type": "stream",
     "text": [
      "▶️ 處理欄位：技能40\n"
     ]
    },
    {
     "name": "stderr",
     "output_type": "stream",
     "text": [
      " 93%|█████████▎| 41/44 [15:33<00:05,  1.84s/it]"
     ]
    },
    {
     "name": "stdout",
     "output_type": "stream",
     "text": [
      "▶️ 處理欄位：技能41\n"
     ]
    },
    {
     "name": "stderr",
     "output_type": "stream",
     "text": [
      " 95%|█████████▌| 42/44 [15:35<00:03,  1.70s/it]"
     ]
    },
    {
     "name": "stdout",
     "output_type": "stream",
     "text": [
      "▶️ 處理欄位：技能42\n"
     ]
    },
    {
     "name": "stderr",
     "output_type": "stream",
     "text": [
      " 98%|█████████▊| 43/44 [15:35<00:01,  1.40s/it]"
     ]
    },
    {
     "name": "stdout",
     "output_type": "stream",
     "text": [
      "▶️ 處理欄位：技能43\n"
     ]
    },
    {
     "name": "stderr",
     "output_type": "stream",
     "text": [
      "100%|██████████| 44/44 [15:36<00:00, 21.28s/it]\n"
     ]
    }
   ],
   "source": [
    "skill_cols = [col for col in df.columns if \"技能\" in col and \"向量\" not in col]\n",
    "\n",
    "for col in tqdm(skill_cols):\n",
    "    print(f\"▶️ 處理欄位：{col}\")\n",
    "    vec_col = f\"{col}向量\"  # 產生對應向量欄位名稱\n",
    "    df[vec_col] = df[col].fillna(\"\").apply(lambda x: get_embeddings(x.strip()) if x.strip() else None)"
   ]
  },
  {
   "cell_type": "code",
   "execution_count": null,
   "id": "eb8e86b2",
   "metadata": {},
   "outputs": [],
   "source": []
  },
  {
   "cell_type": "code",
   "execution_count": 13,
   "id": "d477e6c2",
   "metadata": {},
   "outputs": [
    {
     "name": "stdout",
     "output_type": "stream",
     "text": [
      "<class 'pandas.core.frame.DataFrame'>\n",
      "RangeIndex: 100 entries, 0 to 99\n",
      "Data columns (total 100 columns):\n",
      " #   Column    Non-Null Count  Dtype \n",
      "---  ------    --------------  ----- \n",
      " 0   課程名稱      100 non-null    object\n",
      " 1   評分        68 non-null     object\n",
      " 2   評論數       68 non-null     object\n",
      " 3   Metadata  100 non-null    object\n",
      " 4   課程網址      100 non-null    object\n",
      " 5   課程        72 non-null     object\n",
      " 6   技能        98 non-null     object\n",
      " 7   課程資訊      89 non-null     object\n",
      " 8   師資        92 non-null     object\n",
      " 9   開課時間      89 non-null     object\n",
      " 10  建議學習時間    94 non-null     object\n",
      " 11  學習時長      76 non-null     object\n",
      " 12  課程相關總描述   100 non-null    object\n",
      " 13  技能1       100 non-null    object\n",
      " 14  技能2       99 non-null     object\n",
      " 15  技能3       99 non-null     object\n",
      " 16  技能4       99 non-null     object\n",
      " 17  技能5       99 non-null     object\n",
      " 18  技能6       96 non-null     object\n",
      " 19  技能7       91 non-null     object\n",
      " 20  技能8       87 non-null     object\n",
      " 21  技能9       84 non-null     object\n",
      " 22  技能10      82 non-null     object\n",
      " 23  技能11      73 non-null     object\n",
      " 24  技能12      65 non-null     object\n",
      " 25  技能13      58 non-null     object\n",
      " 26  技能14      49 non-null     object\n",
      " 27  技能15      42 non-null     object\n",
      " 28  技能16      30 non-null     object\n",
      " 29  技能17      25 non-null     object\n",
      " 30  技能18      22 non-null     object\n",
      " 31  技能19      18 non-null     object\n",
      " 32  技能20      15 non-null     object\n",
      " 33  技能21      11 non-null     object\n",
      " 34  技能22      11 non-null     object\n",
      " 35  技能23      11 non-null     object\n",
      " 36  技能24      11 non-null     object\n",
      " 37  技能25      10 non-null     object\n",
      " 38  技能26      10 non-null     object\n",
      " 39  技能27      9 non-null      object\n",
      " 40  技能28      8 non-null      object\n",
      " 41  技能29      8 non-null      object\n",
      " 42  技能30      7 non-null      object\n",
      " 43  技能31      6 non-null      object\n",
      " 44  技能32      5 non-null      object\n",
      " 45  技能33      5 non-null      object\n",
      " 46  技能34      3 non-null      object\n",
      " 47  技能35      3 non-null      object\n",
      " 48  技能36      3 non-null      object\n",
      " 49  技能37      3 non-null      object\n",
      " 50  技能38      3 non-null      object\n",
      " 51  技能39      2 non-null      object\n",
      " 52  技能40      2 non-null      object\n",
      " 53  技能41      2 non-null      object\n",
      " 54  技能42      2 non-null      object\n",
      " 55  技能43      1 non-null      object\n",
      " 56  技能向量      98 non-null     object\n",
      " 57  技能1向量     100 non-null    object\n",
      " 58  技能2向量     99 non-null     object\n",
      " 59  技能3向量     99 non-null     object\n",
      " 60  技能4向量     99 non-null     object\n",
      " 61  技能5向量     99 non-null     object\n",
      " 62  技能6向量     96 non-null     object\n",
      " 63  技能7向量     91 non-null     object\n",
      " 64  技能8向量     87 non-null     object\n",
      " 65  技能9向量     84 non-null     object\n",
      " 66  技能10向量    82 non-null     object\n",
      " 67  技能11向量    73 non-null     object\n",
      " 68  技能12向量    65 non-null     object\n",
      " 69  技能13向量    58 non-null     object\n",
      " 70  技能14向量    49 non-null     object\n",
      " 71  技能15向量    42 non-null     object\n",
      " 72  技能16向量    30 non-null     object\n",
      " 73  技能17向量    25 non-null     object\n",
      " 74  技能18向量    22 non-null     object\n",
      " 75  技能19向量    18 non-null     object\n",
      " 76  技能20向量    15 non-null     object\n",
      " 77  技能21向量    11 non-null     object\n",
      " 78  技能22向量    11 non-null     object\n",
      " 79  技能23向量    11 non-null     object\n",
      " 80  技能24向量    11 non-null     object\n",
      " 81  技能25向量    10 non-null     object\n",
      " 82  技能26向量    10 non-null     object\n",
      " 83  技能27向量    9 non-null      object\n",
      " 84  技能28向量    8 non-null      object\n",
      " 85  技能29向量    8 non-null      object\n",
      " 86  技能30向量    7 non-null      object\n",
      " 87  技能31向量    6 non-null      object\n",
      " 88  技能32向量    5 non-null      object\n",
      " 89  技能33向量    5 non-null      object\n",
      " 90  技能34向量    3 non-null      object\n",
      " 91  技能35向量    3 non-null      object\n",
      " 92  技能36向量    3 non-null      object\n",
      " 93  技能37向量    3 non-null      object\n",
      " 94  技能38向量    3 non-null      object\n",
      " 95  技能39向量    2 non-null      object\n",
      " 96  技能40向量    2 non-null      object\n",
      " 97  技能41向量    2 non-null      object\n",
      " 98  技能42向量    2 non-null      object\n",
      " 99  技能43向量    1 non-null      object\n",
      "dtypes: object(100)\n",
      "memory usage: 78.3+ KB\n"
     ]
    }
   ],
   "source": [
    "df.info()\n"
   ]
  },
  {
   "cell_type": "code",
   "execution_count": null,
   "id": "f6c408b8",
   "metadata": {},
   "outputs": [
    {
     "name": "stdout",
     "output_type": "stream",
     "text": [
      "['課程名稱', '評分', '評論數', 'Metadata', '課程網址', '課程', '技能', '課程資訊', '師資', '開課時間', '建議學習時間', '學習時長', '課程相關總描述', '技能1', '技能2', '技能3', '技能4', '技能5', '技能6', '技能7', '技能8', '技能9', '技能10', '技能11', '技能12', '技能13', '技能14', '技能15', '技能16', '技能17', '技能18', '技能19', '技能20', '技能21', '技能22', '技能23', '技能24', '技能25', '技能26', '技能27', '技能28', '技能29', '技能30', '技能31', '技能32', '技能33', '技能34', '技能35', '技能36', '技能37', '技能38', '技能39', '技能40', '技能41', '技能42', '技能43', '技能向量', '技能1向量', '技能2向量', '技能3向量', '技能4向量', '技能5向量', '技能6向量', '技能7向量', '技能8向量', '技能9向量', '技能10向量', '技能11向量', '技能12向量', '技能13向量', '技能14向量', '技能15向量', '技能16向量', '技能17向量', '技能18向量', '技能19向量', '技能20向量', '技能21向量', '技能22向量', '技能23向量', '技能24向量', '技能25向量', '技能26向量', '技能27向量', '技能28向量', '技能29向量', '技能30向量', '技能31向量', '技能32向量', '技能33向量', '技能34向量', '技能35向量', '技能36向量', '技能37向量', '技能38向量', '技能39向量', '技能40向量', '技能41向量', '技能42向量', '技能43向量', '課程技能向量清單']\n"
     ]
    }
   ],
   "source": [
    "# 將課程向量做合集\n",
    "\n",
    "skill_vector_cols = [col for col in df.columns if col.startswith(\"技能\") and col.endswith(\"向量\")]\n",
    "\n",
    "# 對每門課程組成清單\n",
    "def collect_course_skill_vectors(row):\n",
    "    skill_vectors = []\n",
    "    for vec_col in skill_vector_cols:\n",
    "        skill_num = vec_col.replace(\"向量\", \"\")\n",
    "        skill_name = row.get(skill_num)\n",
    "        vec = row.get(vec_col)\n",
    "        if isinstance(vec, list) and skill_name:  # 確保是有效向量\n",
    "            skill_vectors.append({\"技能名\": skill_name, \"向量\": vec})\n",
    "    return skill_vectors\n",
    "\n",
    "df[\"課程技能向量清單\"] = df.apply(collect_course_skill_vectors, axis=1)"
   ]
  },
  {
   "cell_type": "code",
   "execution_count": 21,
   "id": "86f1c7e4",
   "metadata": {},
   "outputs": [],
   "source": [
    "df.to_csv(\"coursera_skills_embedding_1140721.csv\", index=False, encoding=\"utf-8-sig\")"
   ]
  },
  {
   "cell_type": "code",
   "execution_count": 15,
   "id": "a0d340f0",
   "metadata": {},
   "outputs": [],
   "source": [
    "import numpy as np\n",
    "\n",
    "def cosine_similarity(a, b):\n",
    "    return np.dot(a, b) / (np.linalg.norm(a) * np.linalg.norm(b))"
   ]
  },
  {
   "cell_type": "code",
   "execution_count": null,
   "id": "89257ea2",
   "metadata": {},
   "outputs": [],
   "source": [
    "def search_similar(df, query, n=3):\n",
    "    query_embedding = get_embeddings(query)\n",
    "    df[\"similarity\"] = df['embeddings'].apply(lambda x: cosine_similarity(x, query_embedding))\n",
    "\n",
    "    results = (\n",
    "        df.sort_values(\"similarity\", ascending=False)\n",
    "        .head(n)\n",
    "    )\n",
    "\n",
    "    return results\n",
    "\n",
    "# 根據用戶問題，找最相似的書\n",
    "results = search_similar(df, \"怎樣用 Python 做資料分析\", n=5)\n",
    "results\n"
   ]
  }
 ],
 "metadata": {
  "kernelspec": {
   "display_name": "Python 3",
   "language": "python",
   "name": "python3"
  },
  "language_info": {
   "codemirror_mode": {
    "name": "ipython",
    "version": 3
   },
   "file_extension": ".py",
   "mimetype": "text/x-python",
   "name": "python",
   "nbconvert_exporter": "python",
   "pygments_lexer": "ipython3",
   "version": "3.13.5"
  }
 },
 "nbformat": 4,
 "nbformat_minor": 5
}
