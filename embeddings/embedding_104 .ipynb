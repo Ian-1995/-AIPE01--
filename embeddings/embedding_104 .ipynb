{
 "cells": [
  {
   "cell_type": "code",
   "execution_count": null,
   "id": "0f23df76",
   "metadata": {},
   "outputs": [],
   "source": [
    "import requests\n",
    "import json\n",
    "from pprint import pp\n",
    "# Import necessary libraries\n",
    "## 設定 OpenAI API Key 變數\n",
    "from dotenv import load_dotenv\n",
    "import os\n",
    "from tqdm import tqdm\n",
    "import pandas as pd\n",
    "\n",
    "# Load the environment variables from .env file\n",
    "load_dotenv()\n",
    "\n",
    "# Access the API key\n",
    "openai_api_key = os.getenv('OPENAI_API_KEY')"
   ]
  },
  {
   "cell_type": "code",
   "execution_count": 13,
   "id": "a5e02250",
   "metadata": {},
   "outputs": [],
   "source": [
    "# 定義模型\n",
    "def get_embeddings(text, dimensions = 256, model=\"text-embedding-3-small\"):\n",
    "  url = \"https://api.openai.com/v1/embeddings\"\n",
    "  payload = { \n",
    "    \"input\": text, \n",
    "    \"model\": model, \n",
    "    \"dimensions\": dimensions \n",
    "    }\n",
    "  headers = { \n",
    "    \"Authorization\": f'Bearer {openai_api_key}', \n",
    "    \"Content-Type\": \"application/json\" \n",
    "    }\n",
    "  response = requests.post(url, headers=headers, data=json.dumps(payload))\n",
    "  \n",
    "  if response.status_code == 200 :\n",
    "    return json.loads(response.text)[\"data\"][0][\"embedding\"]\n",
    "  else :\n",
    "    print(f\"錯誤（status {response.status_code}）: {response.text}\")\n",
    "    return None"
   ]
  },
  {
   "cell_type": "code",
   "execution_count": 11,
   "id": "5c70c2e6",
   "metadata": {},
   "outputs": [
    {
     "name": "stdout",
     "output_type": "stream",
     "text": [
      "<class 'pandas.core.frame.DataFrame'>\n",
      "RangeIndex: 5 entries, 0 to 4\n",
      "Data columns (total 65 columns):\n",
      " #   Column  Non-Null Count  Dtype  \n",
      "---  ------  --------------  -----  \n",
      " 0   job_id  5 non-null      object \n",
      " 1   更新日期    5 non-null      object \n",
      " 2   查詢職類    5 non-null      int64  \n",
      " 3   查詢關鍵字   5 non-null      object \n",
      " 4   職務類別    5 non-null      object \n",
      " 5   職缺名稱    5 non-null      object \n",
      " 6   公司名稱    5 non-null      object \n",
      " 7   公司連結    5 non-null      object \n",
      " 8   產業別     5 non-null      object \n",
      " 9   上班地點    5 non-null      object \n",
      " 10  地區      5 non-null      object \n",
      " 11  城市      5 non-null      object \n",
      " 12  國家      5 non-null      object \n",
      " 13  薪資      5 non-null      object \n",
      " 14  薪資下限    5 non-null      int64  \n",
      " 15  薪資上限    5 non-null      int64  \n",
      " 16  職缺描述    5 non-null      object \n",
      " 17  職務需求    0 non-null      float64\n",
      " 18  工作經歷要求  5 non-null      object \n",
      " 19  學歷要求    5 non-null      object \n",
      " 20  科系要求    1 non-null      object \n",
      " 21  擅長工具    4 non-null      object \n",
      " 22  中文聽力    0 non-null      float64\n",
      " 23  中文口說    0 non-null      float64\n",
      " 24  中文閱讀    0 non-null      float64\n",
      " 25  中文寫作    0 non-null      float64\n",
      " 26  英文聽力    1 non-null      object \n",
      " 27  英文口說    1 non-null      object \n",
      " 28  英文閱讀    1 non-null      object \n",
      " 29  英文寫作    1 non-null      object \n",
      " 30  日文聽力    0 non-null      float64\n",
      " 31  日文口說    0 non-null      float64\n",
      " 32  日文閱讀    0 non-null      float64\n",
      " 33  日文寫作    0 non-null      float64\n",
      " 34  台語聽力    0 non-null      float64\n",
      " 35  台語口說    0 non-null      float64\n",
      " 36  台語閱讀    0 non-null      float64\n",
      " 37  台語寫作    0 non-null      float64\n",
      " 38  其他條件    1 non-null      object \n",
      " 39  福利制度    4 non-null      object \n",
      " 40  法定福利    3 non-null      object \n",
      " 41  其他福利    5 non-null      object \n",
      " 42  面試流程    0 non-null      float64\n",
      " 43  職缺連結    5 non-null      object \n",
      " 44  爬取時間    5 non-null      object \n",
      " 45  技能1     5 non-null      object \n",
      " 46  技能2     5 non-null      object \n",
      " 47  技能3     5 non-null      object \n",
      " 48  技能4     5 non-null      object \n",
      " 49  技能5     5 non-null      object \n",
      " 50  技能6     5 non-null      object \n",
      " 51  技能7     5 non-null      object \n",
      " 52  技能8     5 non-null      object \n",
      " 53  技能9     5 non-null      object \n",
      " 54  技能10    5 non-null      object \n",
      " 55  技能11    3 non-null      object \n",
      " 56  技能12    3 non-null      object \n",
      " 57  技能13    2 non-null      object \n",
      " 58  技能14    2 non-null      object \n",
      " 59  技能15    1 non-null      object \n",
      " 60  技能16    1 non-null      object \n",
      " 61  技能17    1 non-null      object \n",
      " 62  技能18    1 non-null      object \n",
      " 63  技能19    1 non-null      object \n",
      " 64  技能20    1 non-null      object \n",
      "dtypes: float64(14), int64(3), object(48)\n",
      "memory usage: 2.7+ KB\n"
     ]
    }
   ],
   "source": [
    "# 載入 CSV\n",
    "df = pd.read_csv(r\"C:\\Users\\user\\Desktop\\期末專題\\prompt提取技能\\104_skills_1140721.csv\")\n",
    "df = df .drop(columns=\"工作技能\")\n",
    "df.info()"
   ]
  },
  {
   "cell_type": "code",
   "execution_count": 14,
   "id": "4c1268f7",
   "metadata": {},
   "outputs": [
    {
     "name": "stderr",
     "output_type": "stream",
     "text": [
      "  0%|          | 0/20 [00:00<?, ?it/s]"
     ]
    },
    {
     "name": "stdout",
     "output_type": "stream",
     "text": [
      "▶️ 處理欄位：技能1\n"
     ]
    },
    {
     "name": "stderr",
     "output_type": "stream",
     "text": [
      "  5%|▌         | 1/20 [00:04<01:32,  4.89s/it]"
     ]
    },
    {
     "name": "stdout",
     "output_type": "stream",
     "text": [
      "▶️ 處理欄位：技能2\n"
     ]
    },
    {
     "name": "stderr",
     "output_type": "stream",
     "text": [
      " 10%|█         | 2/20 [00:12<01:51,  6.21s/it]"
     ]
    },
    {
     "name": "stdout",
     "output_type": "stream",
     "text": [
      "▶️ 處理欄位：技能3\n"
     ]
    },
    {
     "name": "stderr",
     "output_type": "stream",
     "text": [
      " 15%|█▌        | 3/20 [00:15<01:21,  4.82s/it]"
     ]
    },
    {
     "name": "stdout",
     "output_type": "stream",
     "text": [
      "▶️ 處理欄位：技能4\n"
     ]
    },
    {
     "name": "stderr",
     "output_type": "stream",
     "text": [
      " 20%|██        | 4/20 [00:19<01:11,  4.47s/it]"
     ]
    },
    {
     "name": "stdout",
     "output_type": "stream",
     "text": [
      "▶️ 處理欄位：技能5\n"
     ]
    },
    {
     "name": "stderr",
     "output_type": "stream",
     "text": [
      " 25%|██▌       | 5/20 [00:23<01:04,  4.31s/it]"
     ]
    },
    {
     "name": "stdout",
     "output_type": "stream",
     "text": [
      "▶️ 處理欄位：技能6\n"
     ]
    },
    {
     "name": "stderr",
     "output_type": "stream",
     "text": [
      " 30%|███       | 6/20 [00:25<00:51,  3.71s/it]"
     ]
    },
    {
     "name": "stdout",
     "output_type": "stream",
     "text": [
      "▶️ 處理欄位：技能7\n"
     ]
    },
    {
     "name": "stderr",
     "output_type": "stream",
     "text": [
      " 35%|███▌      | 7/20 [00:29<00:47,  3.64s/it]"
     ]
    },
    {
     "name": "stdout",
     "output_type": "stream",
     "text": [
      "▶️ 處理欄位：技能8\n"
     ]
    },
    {
     "name": "stderr",
     "output_type": "stream",
     "text": [
      " 40%|████      | 8/20 [00:32<00:42,  3.51s/it]"
     ]
    },
    {
     "name": "stdout",
     "output_type": "stream",
     "text": [
      "▶️ 處理欄位：技能9\n"
     ]
    },
    {
     "name": "stderr",
     "output_type": "stream",
     "text": [
      " 45%|████▌     | 9/20 [00:34<00:33,  3.06s/it]"
     ]
    },
    {
     "name": "stdout",
     "output_type": "stream",
     "text": [
      "▶️ 處理欄位：技能10\n"
     ]
    },
    {
     "name": "stderr",
     "output_type": "stream",
     "text": [
      " 50%|█████     | 10/20 [00:37<00:28,  2.89s/it]"
     ]
    },
    {
     "name": "stdout",
     "output_type": "stream",
     "text": [
      "▶️ 處理欄位：技能11\n"
     ]
    },
    {
     "name": "stderr",
     "output_type": "stream",
     "text": [
      " 55%|█████▌    | 11/20 [00:38<00:22,  2.47s/it]"
     ]
    },
    {
     "name": "stdout",
     "output_type": "stream",
     "text": [
      "▶️ 處理欄位：技能12\n"
     ]
    },
    {
     "name": "stderr",
     "output_type": "stream",
     "text": [
      " 60%|██████    | 12/20 [00:40<00:19,  2.43s/it]"
     ]
    },
    {
     "name": "stdout",
     "output_type": "stream",
     "text": [
      "▶️ 處理欄位：技能13\n"
     ]
    },
    {
     "name": "stderr",
     "output_type": "stream",
     "text": [
      " 65%|██████▌   | 13/20 [00:41<00:13,  1.92s/it]"
     ]
    },
    {
     "name": "stdout",
     "output_type": "stream",
     "text": [
      "▶️ 處理欄位：技能14\n"
     ]
    },
    {
     "name": "stderr",
     "output_type": "stream",
     "text": [
      " 70%|███████   | 14/20 [00:42<00:09,  1.57s/it]"
     ]
    },
    {
     "name": "stdout",
     "output_type": "stream",
     "text": [
      "▶️ 處理欄位：技能15\n"
     ]
    },
    {
     "name": "stderr",
     "output_type": "stream",
     "text": [
      " 75%|███████▌  | 15/20 [00:44<00:08,  1.61s/it]"
     ]
    },
    {
     "name": "stdout",
     "output_type": "stream",
     "text": [
      "▶️ 處理欄位：技能16\n"
     ]
    },
    {
     "name": "stderr",
     "output_type": "stream",
     "text": [
      " 80%|████████  | 16/20 [00:44<00:04,  1.25s/it]"
     ]
    },
    {
     "name": "stdout",
     "output_type": "stream",
     "text": [
      "▶️ 處理欄位：技能17\n"
     ]
    },
    {
     "name": "stderr",
     "output_type": "stream",
     "text": [
      " 85%|████████▌ | 17/20 [00:44<00:03,  1.01s/it]"
     ]
    },
    {
     "name": "stdout",
     "output_type": "stream",
     "text": [
      "▶️ 處理欄位：技能18\n"
     ]
    },
    {
     "name": "stderr",
     "output_type": "stream",
     "text": [
      " 90%|█████████ | 18/20 [00:45<00:01,  1.16it/s]"
     ]
    },
    {
     "name": "stdout",
     "output_type": "stream",
     "text": [
      "▶️ 處理欄位：技能19\n"
     ]
    },
    {
     "name": "stderr",
     "output_type": "stream",
     "text": [
      " 95%|█████████▌| 19/20 [00:45<00:00,  1.33it/s]"
     ]
    },
    {
     "name": "stdout",
     "output_type": "stream",
     "text": [
      "▶️ 處理欄位：技能20\n"
     ]
    },
    {
     "name": "stderr",
     "output_type": "stream",
     "text": [
      "100%|██████████| 20/20 [00:46<00:00,  2.32s/it]\n"
     ]
    }
   ],
   "source": [
    "skill_cols = [col for col in df.columns if \"技能\" in col and \"向量\" not in col]\n",
    "\n",
    "for col in tqdm(skill_cols):\n",
    "    print(f\"▶️ 處理欄位：{col}\")\n",
    "    vec_col = f\"{col}向量\"  # 產生對應向量欄位名稱\n",
    "    df[vec_col] = df[col].fillna(\"\").apply(lambda x: get_embeddings(x.strip()) if x.strip() else None)"
   ]
  },
  {
   "cell_type": "code",
   "execution_count": 18,
   "id": "eb8e86b2",
   "metadata": {},
   "outputs": [
    {
     "name": "stdout",
     "output_type": "stream",
     "text": [
      "<class 'pandas.core.frame.DataFrame'>\n",
      "RangeIndex: 5 entries, 0 to 4\n",
      "Data columns (total 85 columns):\n",
      " #   Column  Non-Null Count  Dtype  \n",
      "---  ------  --------------  -----  \n",
      " 0   job_id  5 non-null      object \n",
      " 1   更新日期    5 non-null      object \n",
      " 2   查詢職類    5 non-null      int64  \n",
      " 3   查詢關鍵字   5 non-null      object \n",
      " 4   職務類別    5 non-null      object \n",
      " 5   職缺名稱    5 non-null      object \n",
      " 6   公司名稱    5 non-null      object \n",
      " 7   公司連結    5 non-null      object \n",
      " 8   產業別     5 non-null      object \n",
      " 9   上班地點    5 non-null      object \n",
      " 10  地區      5 non-null      object \n",
      " 11  城市      5 non-null      object \n",
      " 12  國家      5 non-null      object \n",
      " 13  薪資      5 non-null      object \n",
      " 14  薪資下限    5 non-null      int64  \n",
      " 15  薪資上限    5 non-null      int64  \n",
      " 16  職缺描述    5 non-null      object \n",
      " 17  職務需求    0 non-null      float64\n",
      " 18  工作經歷要求  5 non-null      object \n",
      " 19  學歷要求    5 non-null      object \n",
      " 20  科系要求    1 non-null      object \n",
      " 21  擅長工具    4 non-null      object \n",
      " 22  中文聽力    0 non-null      float64\n",
      " 23  中文口說    0 non-null      float64\n",
      " 24  中文閱讀    0 non-null      float64\n",
      " 25  中文寫作    0 non-null      float64\n",
      " 26  英文聽力    1 non-null      object \n",
      " 27  英文口說    1 non-null      object \n",
      " 28  英文閱讀    1 non-null      object \n",
      " 29  英文寫作    1 non-null      object \n",
      " 30  日文聽力    0 non-null      float64\n",
      " 31  日文口說    0 non-null      float64\n",
      " 32  日文閱讀    0 non-null      float64\n",
      " 33  日文寫作    0 non-null      float64\n",
      " 34  台語聽力    0 non-null      float64\n",
      " 35  台語口說    0 non-null      float64\n",
      " 36  台語閱讀    0 non-null      float64\n",
      " 37  台語寫作    0 non-null      float64\n",
      " 38  其他條件    1 non-null      object \n",
      " 39  福利制度    4 non-null      object \n",
      " 40  法定福利    3 non-null      object \n",
      " 41  其他福利    5 non-null      object \n",
      " 42  面試流程    0 non-null      float64\n",
      " 43  職缺連結    5 non-null      object \n",
      " 44  爬取時間    5 non-null      object \n",
      " 45  技能1     5 non-null      object \n",
      " 46  技能2     5 non-null      object \n",
      " 47  技能3     5 non-null      object \n",
      " 48  技能4     5 non-null      object \n",
      " 49  技能5     5 non-null      object \n",
      " 50  技能6     5 non-null      object \n",
      " 51  技能7     5 non-null      object \n",
      " 52  技能8     5 non-null      object \n",
      " 53  技能9     5 non-null      object \n",
      " 54  技能10    5 non-null      object \n",
      " 55  技能11    3 non-null      object \n",
      " 56  技能12    3 non-null      object \n",
      " 57  技能13    2 non-null      object \n",
      " 58  技能14    2 non-null      object \n",
      " 59  技能15    1 non-null      object \n",
      " 60  技能16    1 non-null      object \n",
      " 61  技能17    1 non-null      object \n",
      " 62  技能18    1 non-null      object \n",
      " 63  技能19    1 non-null      object \n",
      " 64  技能20    1 non-null      object \n",
      " 65  技能1向量   5 non-null      object \n",
      " 66  技能2向量   5 non-null      object \n",
      " 67  技能3向量   5 non-null      object \n",
      " 68  技能4向量   5 non-null      object \n",
      " 69  技能5向量   5 non-null      object \n",
      " 70  技能6向量   5 non-null      object \n",
      " 71  技能7向量   5 non-null      object \n",
      " 72  技能8向量   5 non-null      object \n",
      " 73  技能9向量   5 non-null      object \n",
      " 74  技能10向量  5 non-null      object \n",
      " 75  技能11向量  3 non-null      object \n",
      " 76  技能12向量  3 non-null      object \n",
      " 77  技能13向量  2 non-null      object \n",
      " 78  技能14向量  2 non-null      object \n",
      " 79  技能15向量  1 non-null      object \n",
      " 80  技能16向量  1 non-null      object \n",
      " 81  技能17向量  1 non-null      object \n",
      " 82  技能18向量  1 non-null      object \n",
      " 83  技能19向量  1 non-null      object \n",
      " 84  技能20向量  1 non-null      object \n",
      "dtypes: float64(14), int64(3), object(68)\n",
      "memory usage: 3.4+ KB\n"
     ]
    }
   ],
   "source": [
    "df.info()"
   ]
  },
  {
   "cell_type": "code",
   "execution_count": 22,
   "id": "89257ea2",
   "metadata": {},
   "outputs": [
    {
     "name": "stdout",
     "output_type": "stream",
     "text": [
      "<class 'pandas.core.frame.DataFrame'>\n",
      "RangeIndex: 5 entries, 0 to 4\n",
      "Data columns (total 86 columns):\n",
      " #   Column    Non-Null Count  Dtype  \n",
      "---  ------    --------------  -----  \n",
      " 0   job_id    5 non-null      object \n",
      " 1   更新日期      5 non-null      object \n",
      " 2   查詢職類      5 non-null      int64  \n",
      " 3   查詢關鍵字     5 non-null      object \n",
      " 4   職務類別      5 non-null      object \n",
      " 5   職缺名稱      5 non-null      object \n",
      " 6   公司名稱      5 non-null      object \n",
      " 7   公司連結      5 non-null      object \n",
      " 8   產業別       5 non-null      object \n",
      " 9   上班地點      5 non-null      object \n",
      " 10  地區        5 non-null      object \n",
      " 11  城市        5 non-null      object \n",
      " 12  國家        5 non-null      object \n",
      " 13  薪資        5 non-null      object \n",
      " 14  薪資下限      5 non-null      int64  \n",
      " 15  薪資上限      5 non-null      int64  \n",
      " 16  職缺描述      5 non-null      object \n",
      " 17  職務需求      0 non-null      float64\n",
      " 18  工作經歷要求    5 non-null      object \n",
      " 19  學歷要求      5 non-null      object \n",
      " 20  科系要求      1 non-null      object \n",
      " 21  擅長工具      4 non-null      object \n",
      " 22  中文聽力      0 non-null      float64\n",
      " 23  中文口說      0 non-null      float64\n",
      " 24  中文閱讀      0 non-null      float64\n",
      " 25  中文寫作      0 non-null      float64\n",
      " 26  英文聽力      1 non-null      object \n",
      " 27  英文口說      1 non-null      object \n",
      " 28  英文閱讀      1 non-null      object \n",
      " 29  英文寫作      1 non-null      object \n",
      " 30  日文聽力      0 non-null      float64\n",
      " 31  日文口說      0 non-null      float64\n",
      " 32  日文閱讀      0 non-null      float64\n",
      " 33  日文寫作      0 non-null      float64\n",
      " 34  台語聽力      0 non-null      float64\n",
      " 35  台語口說      0 non-null      float64\n",
      " 36  台語閱讀      0 non-null      float64\n",
      " 37  台語寫作      0 non-null      float64\n",
      " 38  其他條件      1 non-null      object \n",
      " 39  福利制度      4 non-null      object \n",
      " 40  法定福利      3 non-null      object \n",
      " 41  其他福利      5 non-null      object \n",
      " 42  面試流程      0 non-null      float64\n",
      " 43  職缺連結      5 non-null      object \n",
      " 44  爬取時間      5 non-null      object \n",
      " 45  技能1       5 non-null      object \n",
      " 46  技能2       5 non-null      object \n",
      " 47  技能3       5 non-null      object \n",
      " 48  技能4       5 non-null      object \n",
      " 49  技能5       5 non-null      object \n",
      " 50  技能6       5 non-null      object \n",
      " 51  技能7       5 non-null      object \n",
      " 52  技能8       5 non-null      object \n",
      " 53  技能9       5 non-null      object \n",
      " 54  技能10      5 non-null      object \n",
      " 55  技能11      3 non-null      object \n",
      " 56  技能12      3 non-null      object \n",
      " 57  技能13      2 non-null      object \n",
      " 58  技能14      2 non-null      object \n",
      " 59  技能15      1 non-null      object \n",
      " 60  技能16      1 non-null      object \n",
      " 61  技能17      1 non-null      object \n",
      " 62  技能18      1 non-null      object \n",
      " 63  技能19      1 non-null      object \n",
      " 64  技能20      1 non-null      object \n",
      " 65  技能1向量     5 non-null      object \n",
      " 66  技能2向量     5 non-null      object \n",
      " 67  技能3向量     5 non-null      object \n",
      " 68  技能4向量     5 non-null      object \n",
      " 69  技能5向量     5 non-null      object \n",
      " 70  技能6向量     5 non-null      object \n",
      " 71  技能7向量     5 non-null      object \n",
      " 72  技能8向量     5 non-null      object \n",
      " 73  技能9向量     5 non-null      object \n",
      " 74  技能10向量    5 non-null      object \n",
      " 75  技能11向量    3 non-null      object \n",
      " 76  技能12向量    3 non-null      object \n",
      " 77  技能13向量    2 non-null      object \n",
      " 78  技能14向量    2 non-null      object \n",
      " 79  技能15向量    1 non-null      object \n",
      " 80  技能16向量    1 non-null      object \n",
      " 81  技能17向量    1 non-null      object \n",
      " 82  技能18向量    1 non-null      object \n",
      " 83  技能19向量    1 non-null      object \n",
      " 84  技能20向量    1 non-null      object \n",
      " 85  職缺技能向量清單  5 non-null      object \n",
      "dtypes: float64(14), int64(3), object(69)\n",
      "memory usage: 3.5+ KB\n"
     ]
    }
   ],
   "source": [
    "\n",
    "skill_vector_cols = [col for col in df.columns if col.startswith(\"技能\") and col.endswith(\"向量\")]\n",
    "\n",
    "# 對每門課程組成清單\n",
    "def collect_course_skill_vectors(row):\n",
    "    skill_vectors = []\n",
    "    for vec_col in skill_vector_cols:\n",
    "        skill_num = vec_col.replace(\"向量\", \"\")\n",
    "        skill_name = row.get(skill_num)\n",
    "        vec = row.get(vec_col)\n",
    "        if isinstance(vec, list) and skill_name:  # 確保是有效向量\n",
    "            skill_vectors.append({\"技能名\": skill_name, \"向量\": vec})\n",
    "    return skill_vectors\n",
    "\n",
    "df[\"職缺技能向量清單\"] = df.apply(collect_course_skill_vectors, axis=1)\n",
    "df.info()"
   ]
  },
  {
   "cell_type": "code",
   "execution_count": 24,
   "id": "a0d340f0",
   "metadata": {},
   "outputs": [],
   "source": [
    "df.to_csv(\"104_skills_embedding_1140721.csv\", index=False, encoding=\"utf-8-sig\")"
   ]
  }
 ],
 "metadata": {
  "kernelspec": {
   "display_name": "Python 3",
   "language": "python",
   "name": "python3"
  },
  "language_info": {
   "codemirror_mode": {
    "name": "ipython",
    "version": 3
   },
   "file_extension": ".py",
   "mimetype": "text/x-python",
   "name": "python",
   "nbconvert_exporter": "python",
   "pygments_lexer": "ipython3",
   "version": "3.13.5"
  }
 },
 "nbformat": 4,
 "nbformat_minor": 5
}
