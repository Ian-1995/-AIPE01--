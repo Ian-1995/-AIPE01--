{
 "cells": [
  {
   "cell_type": "code",
   "execution_count": 8,
   "id": "0f23df76",
   "metadata": {},
   "outputs": [],
   "source": [
    "import requests\n",
    "import json\n",
    "from pprint import pp\n",
    "# Import necessary libraries\n",
    "## 設定 OpenAI API Key 變數\n",
    "from dotenv import load_dotenv\n",
    "import os\n",
    "from tqdm import tqdm\n",
    "import pandas as pd\n",
    "\n",
    "# Load the environment variables from .env file\n",
    "load_dotenv()\n",
    "\n",
    "# Access the API key\n",
    "openai_api_key = os.getenv('OPENAI_API_KEY')"
   ]
  },
  {
   "cell_type": "code",
   "execution_count": 9,
   "id": "a5e02250",
   "metadata": {},
   "outputs": [],
   "source": [
    "# 定義模型\n",
    "def get_embeddings(text, dimensions = 256, model=\"text-embedding-3-small\"):\n",
    "  url = \"https://api.openai.com/v1/embeddings\"\n",
    "  payload = { \n",
    "    \"input\": text, \n",
    "    \"model\": model, \n",
    "    \"dimensions\": dimensions \n",
    "    }\n",
    "  headers = { \n",
    "    \"Authorization\": f'Bearer {openai_api_key}', \n",
    "    \"Content-Type\": \"application/json\" \n",
    "    }\n",
    "  response = requests.post(url, headers=headers, data=json.dumps(payload))\n",
    "  \n",
    "  if response.status_code == 200 :\n",
    "    return json.loads(response.text)[\"data\"][0][\"embedding\"]\n",
    "  else :\n",
    "    print(f\"錯誤（status {response.status_code}）: {response.text}\")\n",
    "    return None"
   ]
  },
  {
   "cell_type": "code",
   "execution_count": 10,
   "id": "5c70c2e6",
   "metadata": {},
   "outputs": [
    {
     "name": "stdout",
     "output_type": "stream",
     "text": [
      "<class 'pandas.core.frame.DataFrame'>\n",
      "RangeIndex: 5 entries, 0 to 4\n",
      "Data columns (total 47 columns):\n",
      " #   Column  Non-Null Count  Dtype  \n",
      "---  ------  --------------  -----  \n",
      " 0   job_id  5 non-null      object \n",
      " 1   更新日期    5 non-null      object \n",
      " 2   查詢職類    5 non-null      int64  \n",
      " 3   查詢關鍵字   5 non-null      object \n",
      " 4   職務類別    5 non-null      object \n",
      " 5   職缺名稱    5 non-null      object \n",
      " 6   公司名稱    5 non-null      object \n",
      " 7   公司連結    5 non-null      object \n",
      " 8   產業別     5 non-null      object \n",
      " 9   上班地點    5 non-null      object \n",
      " 10  地區      5 non-null      object \n",
      " 11  城市      5 non-null      object \n",
      " 12  國家      5 non-null      object \n",
      " 13  薪資      5 non-null      object \n",
      " 14  薪資下限    5 non-null      int64  \n",
      " 15  薪資上限    5 non-null      int64  \n",
      " 16  職缺描述    5 non-null      object \n",
      " 17  職務需求    0 non-null      float64\n",
      " 18  工作經歷要求  5 non-null      object \n",
      " 19  學歷要求    5 non-null      object \n",
      " 20  科系要求    2 non-null      object \n",
      " 21  擅長工具    1 non-null      object \n",
      " 22  中文聽力    0 non-null      object \n",
      " 23  中文口說    0 non-null      object \n",
      " 24  中文閱讀    0 non-null      object \n",
      " 25  中文寫作    0 non-null      object \n",
      " 26  英文聽力    2 non-null      object \n",
      " 27  英文口說    2 non-null      object \n",
      " 28  英文閱讀    2 non-null      object \n",
      " 29  英文寫作    2 non-null      object \n",
      " 30  日文聽力    0 non-null      object \n",
      " 31  日文口說    0 non-null      object \n",
      " 32  日文閱讀    0 non-null      object \n",
      " 33  日文寫作    0 non-null      object \n",
      " 34  台語聽力    0 non-null      float64\n",
      " 35  台語口說    0 non-null      float64\n",
      " 36  台語閱讀    0 non-null      float64\n",
      " 37  台語寫作    0 non-null      float64\n",
      " 38  其他條件    1 non-null      object \n",
      " 39  福利制度    5 non-null      object \n",
      " 40  法定福利    5 non-null      object \n",
      " 41  其他福利    4 non-null      object \n",
      " 42  面試流程    0 non-null      float64\n",
      " 43  職缺連結    5 non-null      object \n",
      " 44  爬取時間    5 non-null      object \n",
      " 45  技能原文    5 non-null      object \n",
      " 46  技能      5 non-null      object \n",
      "dtypes: float64(6), int64(3), object(38)\n",
      "memory usage: 2.0+ KB\n"
     ]
    }
   ],
   "source": [
    "# 載入 CSV\n",
    "df = pd.read_csv(r\"..\\prompt提取技能\\104_skills_新北市_1140721.csv\")\n",
    "df = df .drop(columns=\"工作技能\")\n",
    "df = df.head()\n",
    "df.info()"
   ]
  },
  {
   "cell_type": "code",
   "execution_count": 11,
   "id": "4c1268f7",
   "metadata": {},
   "outputs": [
    {
     "name": "stderr",
     "output_type": "stream",
     "text": [
      "  0%|          | 0/2 [00:00<?, ?it/s]"
     ]
    },
    {
     "name": "stdout",
     "output_type": "stream",
     "text": [
      "▶️ 處理欄位：技能原文\n"
     ]
    },
    {
     "name": "stderr",
     "output_type": "stream",
     "text": [
      " 50%|█████     | 1/2 [00:04<00:04,  4.55s/it]"
     ]
    },
    {
     "name": "stdout",
     "output_type": "stream",
     "text": [
      "▶️ 處理欄位：技能\n"
     ]
    },
    {
     "name": "stderr",
     "output_type": "stream",
     "text": [
      "100%|██████████| 2/2 [00:07<00:00,  3.65s/it]\n"
     ]
    }
   ],
   "source": [
    "skill_cols = [col for col in df.columns if \"技能\" in col and \"向量\" not in col]\n",
    "\n",
    "for col in tqdm(skill_cols):\n",
    "    print(f\"▶️ 處理欄位：{col}\")\n",
    "    vec_col = f\"{col}向量\"  # 產生對應向量欄位名稱\n",
    "    df[vec_col] = df[col].fillna(\"\").apply(lambda x: get_embeddings(x.strip()) if x.strip() else None)"
   ]
  },
  {
   "cell_type": "code",
   "execution_count": 5,
   "id": "eb8e86b2",
   "metadata": {},
   "outputs": [
    {
     "name": "stdout",
     "output_type": "stream",
     "text": [
      "<class 'pandas.core.frame.DataFrame'>\n",
      "RangeIndex: 5 entries, 0 to 4\n",
      "Data columns (total 49 columns):\n",
      " #   Column  Non-Null Count  Dtype  \n",
      "---  ------  --------------  -----  \n",
      " 0   job_id  5 non-null      object \n",
      " 1   更新日期    5 non-null      object \n",
      " 2   查詢職類    5 non-null      int64  \n",
      " 3   查詢關鍵字   5 non-null      object \n",
      " 4   職務類別    5 non-null      object \n",
      " 5   職缺名稱    5 non-null      object \n",
      " 6   公司名稱    5 non-null      object \n",
      " 7   公司連結    5 non-null      object \n",
      " 8   產業別     5 non-null      object \n",
      " 9   上班地點    5 non-null      object \n",
      " 10  地區      5 non-null      object \n",
      " 11  城市      5 non-null      object \n",
      " 12  國家      5 non-null      object \n",
      " 13  薪資      5 non-null      object \n",
      " 14  薪資下限    5 non-null      int64  \n",
      " 15  薪資上限    5 non-null      int64  \n",
      " 16  職缺描述    5 non-null      object \n",
      " 17  職務需求    0 non-null      float64\n",
      " 18  工作經歷要求  5 non-null      object \n",
      " 19  學歷要求    5 non-null      object \n",
      " 20  科系要求    2 non-null      object \n",
      " 21  擅長工具    1 non-null      object \n",
      " 22  中文聽力    0 non-null      object \n",
      " 23  中文口說    0 non-null      object \n",
      " 24  中文閱讀    0 non-null      object \n",
      " 25  中文寫作    0 non-null      object \n",
      " 26  英文聽力    2 non-null      object \n",
      " 27  英文口說    2 non-null      object \n",
      " 28  英文閱讀    2 non-null      object \n",
      " 29  英文寫作    2 non-null      object \n",
      " 30  日文聽力    0 non-null      object \n",
      " 31  日文口說    0 non-null      object \n",
      " 32  日文閱讀    0 non-null      object \n",
      " 33  日文寫作    0 non-null      object \n",
      " 34  台語聽力    0 non-null      float64\n",
      " 35  台語口說    0 non-null      float64\n",
      " 36  台語閱讀    0 non-null      float64\n",
      " 37  台語寫作    0 non-null      float64\n",
      " 38  其他條件    1 non-null      object \n",
      " 39  福利制度    5 non-null      object \n",
      " 40  法定福利    5 non-null      object \n",
      " 41  其他福利    4 non-null      object \n",
      " 42  面試流程    0 non-null      float64\n",
      " 43  職缺連結    5 non-null      object \n",
      " 44  爬取時間    5 non-null      object \n",
      " 45  技能原文    5 non-null      object \n",
      " 46  技能      5 non-null      object \n",
      " 47  技能原文向量  5 non-null      object \n",
      " 48  技能向量    5 non-null      object \n",
      "dtypes: float64(6), int64(3), object(40)\n",
      "memory usage: 2.0+ KB\n"
     ]
    }
   ],
   "source": [
    "df.info()"
   ]
  },
  {
   "cell_type": "code",
   "execution_count": 6,
   "id": "89257ea2",
   "metadata": {},
   "outputs": [
    {
     "name": "stdout",
     "output_type": "stream",
     "text": [
      "<class 'pandas.core.frame.DataFrame'>\n",
      "RangeIndex: 5 entries, 0 to 4\n",
      "Data columns (total 50 columns):\n",
      " #   Column    Non-Null Count  Dtype  \n",
      "---  ------    --------------  -----  \n",
      " 0   job_id    5 non-null      object \n",
      " 1   更新日期      5 non-null      object \n",
      " 2   查詢職類      5 non-null      int64  \n",
      " 3   查詢關鍵字     5 non-null      object \n",
      " 4   職務類別      5 non-null      object \n",
      " 5   職缺名稱      5 non-null      object \n",
      " 6   公司名稱      5 non-null      object \n",
      " 7   公司連結      5 non-null      object \n",
      " 8   產業別       5 non-null      object \n",
      " 9   上班地點      5 non-null      object \n",
      " 10  地區        5 non-null      object \n",
      " 11  城市        5 non-null      object \n",
      " 12  國家        5 non-null      object \n",
      " 13  薪資        5 non-null      object \n",
      " 14  薪資下限      5 non-null      int64  \n",
      " 15  薪資上限      5 non-null      int64  \n",
      " 16  職缺描述      5 non-null      object \n",
      " 17  職務需求      0 non-null      float64\n",
      " 18  工作經歷要求    5 non-null      object \n",
      " 19  學歷要求      5 non-null      object \n",
      " 20  科系要求      2 non-null      object \n",
      " 21  擅長工具      1 non-null      object \n",
      " 22  中文聽力      0 non-null      object \n",
      " 23  中文口說      0 non-null      object \n",
      " 24  中文閱讀      0 non-null      object \n",
      " 25  中文寫作      0 non-null      object \n",
      " 26  英文聽力      2 non-null      object \n",
      " 27  英文口說      2 non-null      object \n",
      " 28  英文閱讀      2 non-null      object \n",
      " 29  英文寫作      2 non-null      object \n",
      " 30  日文聽力      0 non-null      object \n",
      " 31  日文口說      0 non-null      object \n",
      " 32  日文閱讀      0 non-null      object \n",
      " 33  日文寫作      0 non-null      object \n",
      " 34  台語聽力      0 non-null      float64\n",
      " 35  台語口說      0 non-null      float64\n",
      " 36  台語閱讀      0 non-null      float64\n",
      " 37  台語寫作      0 non-null      float64\n",
      " 38  其他條件      1 non-null      object \n",
      " 39  福利制度      5 non-null      object \n",
      " 40  法定福利      5 non-null      object \n",
      " 41  其他福利      4 non-null      object \n",
      " 42  面試流程      0 non-null      float64\n",
      " 43  職缺連結      5 non-null      object \n",
      " 44  爬取時間      5 non-null      object \n",
      " 45  技能原文      5 non-null      object \n",
      " 46  技能        5 non-null      object \n",
      " 47  技能原文向量    5 non-null      object \n",
      " 48  技能向量      5 non-null      object \n",
      " 49  職缺技能向量清單  5 non-null      object \n",
      "dtypes: float64(6), int64(3), object(41)\n",
      "memory usage: 2.1+ KB\n"
     ]
    }
   ],
   "source": [
    "\n",
    "skill_vector_cols = [col for col in df.columns if col.startswith(\"技能\") and col.endswith(\"向量\")]\n",
    "\n",
    "# 對每門課程組成清單\n",
    "def collect_course_skill_vectors(row):\n",
    "    skill_vectors = []\n",
    "    for vec_col in skill_vector_cols:\n",
    "        skill_num = vec_col.replace(\"向量\", \"\")\n",
    "        skill_name = row.get(skill_num)\n",
    "        vec = row.get(vec_col)\n",
    "        if isinstance(vec, list) and skill_name:  # 確保是有效向量\n",
    "            skill_vectors.append({\"技能名\": skill_name, \"向量\": vec})\n",
    "    return skill_vectors\n",
    "\n",
    "df[\"職缺技能向量清單\"] = df.apply(collect_course_skill_vectors, axis=1)\n",
    "df.info()"
   ]
  },
  {
   "cell_type": "code",
   "execution_count": 7,
   "id": "a0d340f0",
   "metadata": {},
   "outputs": [],
   "source": [
    "df.to_csv(\"104_skills_embedding_1140721.csv\", index=False, encoding=\"utf-8-sig\")"
   ]
  }
 ],
 "metadata": {
  "kernelspec": {
   "display_name": "Python 3",
   "language": "python",
   "name": "python3"
  },
  "language_info": {
   "codemirror_mode": {
    "name": "ipython",
    "version": 3
   },
   "file_extension": ".py",
   "mimetype": "text/x-python",
   "name": "python",
   "nbconvert_exporter": "python",
   "pygments_lexer": "ipython3",
   "version": "3.13.5"
  }
 },
 "nbformat": 4,
 "nbformat_minor": 5
}
