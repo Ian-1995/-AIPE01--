{
 "cells": [
  {
   "cell_type": "code",
   "execution_count": 12,
   "id": "fdfe8aed",
   "metadata": {},
   "outputs": [],
   "source": [
    "import pandas as pd\n",
    "import re\n",
    "from transformers import AutoTokenizer, AutoModel\n",
    "import torch\n",
    "import subprocess\n",
    "from pprint import pprint"
   ]
  },
  {
   "cell_type": "markdown",
   "id": "4e2ea3e6",
   "metadata": {},
   "source": [
    "## 讀檔案"
   ]
  },
  {
   "cell_type": "code",
   "execution_count": 2,
   "id": "97259ce7",
   "metadata": {},
   "outputs": [
    {
     "name": "stdout",
     "output_type": "stream",
     "text": [
      "<class 'pandas.core.frame.DataFrame'>\n",
      "RangeIndex: 15748 entries, 0 to 15747\n",
      "Data columns (total 46 columns):\n",
      " #   Column  Non-Null Count  Dtype  \n",
      "---  ------  --------------  -----  \n",
      " 0   job_id  15748 non-null  object \n",
      " 1   更新日期    15748 non-null  object \n",
      " 2   查詢職類    15748 non-null  int64  \n",
      " 3   查詢關鍵字   15748 non-null  object \n",
      " 4   職務類別    15748 non-null  object \n",
      " 5   職缺名稱    15748 non-null  object \n",
      " 6   公司名稱    15748 non-null  object \n",
      " 7   公司連結    15748 non-null  object \n",
      " 8   產業別     15748 non-null  object \n",
      " 9   上班地點    15748 non-null  object \n",
      " 10  地區      14577 non-null  object \n",
      " 11  城市      15748 non-null  object \n",
      " 12  國家      15748 non-null  object \n",
      " 13  薪資      15748 non-null  object \n",
      " 14  薪資下限    15748 non-null  int64  \n",
      " 15  薪資上限    15748 non-null  int64  \n",
      " 16  職缺描述    15733 non-null  object \n",
      " 17  職務需求    0 non-null      float64\n",
      " 18  工作經歷要求  15748 non-null  object \n",
      " 19  學歷要求    15748 non-null  object \n",
      " 20  科系要求    8534 non-null   object \n",
      " 21  擅長工具    11180 non-null  object \n",
      " 22  工作技能    7569 non-null   object \n",
      " 23  中文聽力    394 non-null    object \n",
      " 24  中文口說    394 non-null    object \n",
      " 25  中文閱讀    394 non-null    object \n",
      " 26  中文寫作    394 non-null    object \n",
      " 27  英文聽力    7499 non-null   object \n",
      " 28  英文口說    7499 non-null   object \n",
      " 29  英文閱讀    7499 non-null   object \n",
      " 30  英文寫作    7499 non-null   object \n",
      " 31  日文聽力    110 non-null    object \n",
      " 32  日文口說    110 non-null    object \n",
      " 33  日文閱讀    110 non-null    object \n",
      " 34  日文寫作    110 non-null    object \n",
      " 35  台語聽力    0 non-null      float64\n",
      " 36  台語口說    0 non-null      float64\n",
      " 37  台語閱讀    0 non-null      float64\n",
      " 38  台語寫作    0 non-null      float64\n",
      " 39  其他條件    11239 non-null  object \n",
      " 40  福利制度    10737 non-null  object \n",
      " 41  法定福利    10253 non-null  object \n",
      " 42  其他福利    15005 non-null  object \n",
      " 43  面試流程    0 non-null      float64\n",
      " 44  職缺連結    15748 non-null  object \n",
      " 45  爬取時間    15748 non-null  object \n",
      "dtypes: float64(6), int64(3), object(37)\n",
      "memory usage: 5.5+ MB\n"
     ]
    }
   ],
   "source": [
    "df = pd.read_csv(r\"C:\\Users\\user\\Desktop\\期末專題\\爬蟲\\104_職缺\\Crawler_1140718\\104_programmers_jobs.csv\")\n",
    "\n",
    "df.info()"
   ]
  },
  {
   "cell_type": "code",
   "execution_count": 26,
   "id": "1d1e3246",
   "metadata": {},
   "outputs": [],
   "source": [
    "df = df.head(5).copy()\n",
    "\n",
    "df[\"技能原文\"] = (\n",
    "    df[\"職缺描述\"].astype(str) + \"\\n\" +\n",
    "    df[\"擅長工具\"].astype(str) + \"\\n\" +\n",
    "    df[\"工作技能\"].astype(str)\n",
    ")"
   ]
  },
  {
   "cell_type": "code",
   "execution_count": 42,
   "id": "cdc595a0",
   "metadata": {},
   "outputs": [],
   "source": [
    "def query_ollama(prompt):\n",
    "    result = subprocess.run(\n",
    "        [\"ollama\", \"run\", \"qwen:7b\"],\n",
    "        input=prompt.encode(),\n",
    "        stdout=subprocess.PIPE\n",
    "    )\n",
    "    return result.stdout.decode()\n",
    "\n",
    "def extract_skills(text):\n",
    "    prompt = f\"\"\"\n",
    "\n",
    "    請從以下內容中提取技能，列出技能或工具，用逗號分隔，\n",
    "    內容中不要有其他文字\n",
    "    (EX：不要有:以下是从提供的内容中提取的技能...等文字)\n",
    "    ，單純回應技能名稱(如果有中英文版本給我中英文版本)\n",
    "    (EX：HTML、CSS...等。)\n",
    "    \n",
    "    ：{text}\n",
    "\n",
    "    \"\"\"\n",
    "    \n",
    "    return query_ollama(prompt).strip()\n",
    "\n",
    "# 新增提取技能欄位\n",
    "\n",
    "\n"
   ]
  },
  {
   "cell_type": "code",
   "execution_count": 43,
   "id": "7f163088",
   "metadata": {},
   "outputs": [
    {
     "data": {
      "text/html": [
       "<div>\n",
       "<style scoped>\n",
       "    .dataframe tbody tr th:only-of-type {\n",
       "        vertical-align: middle;\n",
       "    }\n",
       "\n",
       "    .dataframe tbody tr th {\n",
       "        vertical-align: top;\n",
       "    }\n",
       "\n",
       "    .dataframe thead th {\n",
       "        text-align: right;\n",
       "    }\n",
       "</style>\n",
       "<table border=\"1\" class=\"dataframe\">\n",
       "  <thead>\n",
       "    <tr style=\"text-align: right;\">\n",
       "      <th></th>\n",
       "      <th>技能</th>\n",
       "      <th>技能原文</th>\n",
       "    </tr>\n",
       "  </thead>\n",
       "  <tbody>\n",
       "    <tr>\n",
       "      <th>0</th>\n",
       "      <td>前端开发技能：HTML、CSS、JavaScript、React、Next.js、Vue、N...</td>\n",
       "      <td>我們致力於建構先進的 VR、AR 和 MR 產品，讓使用者能使用頭盔或瀏覽器享受WebXR體...</td>\n",
       "    </tr>\n",
       "    <tr>\n",
       "      <th>1</th>\n",
       "      <td>前端开发技能：\\n- HTML\\n- CSS\\n- JavaScript\\n- TypeSc...</td>\n",
       "      <td>我們致力於建構先進的 VR、AR 和 MR 產品，讓使用者能使用頭盔或瀏覽器享受WebXR體...</td>\n",
       "    </tr>\n",
       "    <tr>\n",
       "      <th>2</th>\n",
       "      <td>技能名称：\\n\\n1. 英文阅读撰寫能力（中级以上）\\n2. Backend程式开发经验 (...</td>\n",
       "      <td>工作內容  - 負責 Backend 程式設計並擬定開發計畫 - 檢視並優化服務安全性穩定性...</td>\n",
       "    </tr>\n",
       "    <tr>\n",
       "      <th>3</th>\n",
       "      <td>技能列表：\\n\\n1. Java\\n2. PHP\\n3. Go\\n4. JavaScript...</td>\n",
       "      <td>Yating(https://yating.tw/zh-hant), a Taiwan AI...</td>\n",
       "    </tr>\n",
       "    <tr>\n",
       "      <th>4</th>\n",
       "      <td>技能列表如下（以逗号分隔）：\\n\\n- HTML\\n- CSS\\n- JavaScript\\...</td>\n",
       "      <td>主要職責： • 設計和實施高效能的前端架構。 • 領導前端項目，從規劃到部署，主要使用 Vu...</td>\n",
       "    </tr>\n",
       "  </tbody>\n",
       "</table>\n",
       "</div>"
      ],
      "text/plain": [
       "                                                  技能  \\\n",
       "0  前端开发技能：HTML、CSS、JavaScript、React、Next.js、Vue、N...   \n",
       "1  前端开发技能：\\n- HTML\\n- CSS\\n- JavaScript\\n- TypeSc...   \n",
       "2  技能名称：\\n\\n1. 英文阅读撰寫能力（中级以上）\\n2. Backend程式开发经验 (...   \n",
       "3  技能列表：\\n\\n1. Java\\n2. PHP\\n3. Go\\n4. JavaScript...   \n",
       "4  技能列表如下（以逗号分隔）：\\n\\n- HTML\\n- CSS\\n- JavaScript\\...   \n",
       "\n",
       "                                                技能原文  \n",
       "0  我們致力於建構先進的 VR、AR 和 MR 產品，讓使用者能使用頭盔或瀏覽器享受WebXR體...  \n",
       "1  我們致力於建構先進的 VR、AR 和 MR 產品，讓使用者能使用頭盔或瀏覽器享受WebXR體...  \n",
       "2  工作內容  - 負責 Backend 程式設計並擬定開發計畫 - 檢視並優化服務安全性穩定性...  \n",
       "3  Yating(https://yating.tw/zh-hant), a Taiwan AI...  \n",
       "4  主要職責： • 設計和實施高效能的前端架構。 • 領導前端項目，從規劃到部署，主要使用 Vu...  "
      ]
     },
     "execution_count": 43,
     "metadata": {},
     "output_type": "execute_result"
    }
   ],
   "source": [
    "df[\"技能\"] = df[\"技能原文\"].apply(extract_skills)\n",
    "df.to_csv(\"output_with_skills.csv\", index=False)\n",
    "\n",
    "df_test = df[[\"技能\", \"技能原文\"]]\n",
    "df_test"
   ]
  },
  {
   "cell_type": "code",
   "execution_count": 53,
   "id": "e64463e3",
   "metadata": {},
   "outputs": [
    {
     "name": "stdout",
     "output_type": "stream",
     "text": [
      "前端开发技能：HTML、CSS、JavaScript、React、Next.js、Vue、Nuxt.js\n",
      "\n",
      "WebXR相关技能：Three.js、TypeScript、WebGL、沉浸式体验开发经验\n",
      "\n",
      "其他工具或语言：Git、Redux、Node.js、AWS、Github等。熟悉结构化程式设计和系统整合分析。\n"
     ]
    }
   ],
   "source": [
    "print(df_test[\"技能\"].iloc[0])"
   ]
  }
 ],
 "metadata": {
  "kernelspec": {
   "display_name": "Python 3",
   "language": "python",
   "name": "python3"
  },
  "language_info": {
   "codemirror_mode": {
    "name": "ipython",
    "version": 3
   },
   "file_extension": ".py",
   "mimetype": "text/x-python",
   "name": "python",
   "nbconvert_exporter": "python",
   "pygments_lexer": "ipython3",
   "version": "3.13.5"
  }
 },
 "nbformat": 4,
 "nbformat_minor": 5
}
