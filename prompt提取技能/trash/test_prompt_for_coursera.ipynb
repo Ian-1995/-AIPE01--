{
 "cells": [
  {
   "cell_type": "code",
   "execution_count": 2,
   "id": "8e766684",
   "metadata": {},
   "outputs": [
    {
     "name": "stderr",
     "output_type": "stream",
     "text": [
      "c:\\Users\\student\\AppData\\Local\\Programs\\Python\\Python313\\Lib\\site-packages\\tqdm\\auto.py:21: TqdmWarning: IProgress not found. Please update jupyter and ipywidgets. See https://ipywidgets.readthedocs.io/en/stable/user_install.html\n",
      "  from .autonotebook import tqdm as notebook_tqdm\n"
     ]
    }
   ],
   "source": [
    "import pandas as pd\n",
    "import re\n",
    "from transformers import AutoTokenizer, AutoModel\n",
    "# import torch\n",
    "import subprocess\n",
    "from pprint import pprint\n",
    "import os\n",
    "from openai import OpenAI"
   ]
  },
  {
   "cell_type": "code",
   "execution_count": null,
   "id": "18ca944f",
   "metadata": {},
   "outputs": [],
   "source": [
    "df = pd.read_csv(\n",
    "    r\"C:\\Users\\student\\期末專題\\課程資料\\coursera_WebDevelopment_TS.csv\"\n",
    ")\n"
   ]
  },
  {
   "cell_type": "code",
   "execution_count": 16,
   "id": "30b40388",
   "metadata": {},
   "outputs": [
    {
     "name": "stdout",
     "output_type": "stream",
     "text": [
      "61    Persona (User Experience), Version Control, An...\n",
      "Name: 技能, dtype: object\n"
     ]
    }
   ],
   "source": [
    "target_name = \"Meta Android Developer\"\n",
    "df_show = df[df[\"課程名稱\"] == target_name].copy()\n",
    "print(df_show[\"技能\"])"
   ]
  },
  {
   "cell_type": "code",
   "execution_count": 5,
   "id": "8f023672",
   "metadata": {},
   "outputs": [
    {
     "name": "stdout",
     "output_type": "stream",
     "text": [
      "nan\n",
      "Introduction to Front-End Development | Programming with JavaScript | Version Control | HTML and CSS in depth | React Basics | Advanced React | Principles of UX/UI Design | Front-End Developer Capstone | Coding Interview Preparation\n",
      "HTML and CSS, Persona (User Experience), Version Control, Javascript, Usability Testing, Unix Commands, React.js, Responsive Web Design, Cascading Style Sheets (CSS), Front-End Web Development, GitHub, Data Structures\n",
      "Meta Front-End Developer\n"
     ]
    }
   ],
   "source": [
    "df = df.head(100).copy()\n",
    "\n",
    "df[\"課程內容總合\"] = (\n",
    "    df[\"課程\"].astype(str)\n",
    "    + \"\\n\"\n",
    "    + df[\"課程資訊\"].astype(str)\n",
    "    + \"\\n\"\n",
    "    + df[\"技能\"].astype(str)\n",
    "    + \"\\n\"\n",
    "    + df[\"課程名稱\"].astype(str)\n",
    ")\n",
    "\n",
    "print(df[\"課程內容總合\"].iloc[0])"
   ]
  },
  {
   "cell_type": "code",
   "execution_count": 6,
   "id": "ceec8137",
   "metadata": {},
   "outputs": [],
   "source": [
    "Skill_list=\"C11,C++17-STL,Objective-C,Swift-Concurrency,Go-Generics,Rust-Tokio,Kotlin-KMP,Java-Spring Boot,Groovy-Gradle,Scala-Akka,Python-3.12,Python-Typing,TypeScript-5.x,JavaScript-ES2023,Dart,Ruby-on-Rails,PHP-Laravel,Elixir-Phoenix,Haskell-GHC,R-Tidyverse,Julia-DataFrames,MATLAB-Simulink,Lua-OpenResty,Bash-Shell,PowerShell-Core,Perl-Moose,Assembly-x86-64,WebAssembly-WASI,SQL-ANSI,GraphQL-SDL,JSON-Schema,YAML,TOML,Protocol Buffers,Thrift-IDL,Regular Expression-PCRE,Makefile,CMake,Gradle-Kotlin DSL,Maven-POM,NPM-Workspaces,Yarn-Plug’n’Play,PNPM,Pip-Requirements,Poetry-PyProject,Conda-Env,Cargo-Crates,Go-Modules,Swift-Package Manager,.NET-CLI,Git-Flow,Git-Submodule,Git-Worktree,Git-LFS,SVN,Mercurial,SSH-Keygen,GPG-Sign,Regex101-Testing,Postman-Collections,Insomnia-REST,HTTPie,cURL,JQ-JSON CLI,GNU-AWK,Sed-Stream,Fzf-Search,Tmux,Vim-Lua Config,Neovim-LSP,VSCode-Dev Container,JetBrains-IntelliJ,Eclipse,Emacs-Org Mode,Sublime-Build System,Notion-Markdown,Obsidian-Dataview,Docusaurus,MkDocs-Material,Sphinx-Autodoc,HTML-5,CSS-Flexbox,CSS-Grid,SCSS-Mixin,TailwindCSS,PostCSS,Styled-Components,React-Hooks,React-Redux Toolkit,React-Next.js 14,React-Remix,Vue3-Composition API,Nuxt-3,Angular-16,Svelte-Kit,SolidJS,Lit-Element,Webpack-Module Federation,Vite-HMR,Rollup-Treeshake,Parcel-Bundler,Storybook-CSF,Framer-Motion,Next-Auth,React-TanStack Query,SWR-Cache,React-React-Hook-Form,Apollo-Client,URQL,GraphQL-Codegen,D3.js,Chart.js,ECharts,Highcharts,Three.js,Babylon.js,WebGL-Shader,WebGPU,WebXR-AR,WebXR-VR,Service Worker-PWA,Workbox,WebRTC-Peer,WebSocket-Socket.IO,MQTT-Web,OAuth2-PKCE Flow,OpenID-Connect,Figma-Design Tokens,Adobe XD,Sketch-Symbol,Zeplin-Handoff,CSS-BEM,CSS-Modules,ESLint-Prettier,Husky-Git Hooks,Cypress-E2E,Playwright-Test,Lighthouse-Perf,Web-Vitals,Sentry-Browser SDK,Android-Kotlin,Android-Jetpack Compose,Android-Room DB,Android-CameraX,iOS-SwiftUI,iOS-Core Data,iOS-ARKit,Flutter-Riverpod,Flutter-Bloc,React Native-Expo,React Native-Hermes,Ionic-Capacitor,Cordova-Plugins,Unity-C#,Unreal-Blueprint,MAUI-.NET,Tauri-Rust Desktop,Electron-IPC,Expo-EAS Build,Kotlin Multiplatform,Xamarin-Forms,NativeScript-Vue,Fastlane-CI/CD,Firebase-Crashlytics,Firebase-Cloud Messaging,Firebase-Auth,Google Analytics-GA4,App Store Connect-TestFlight,Play Console-AB Testing,Lottie-Animation,ARCore-Depth API,ML-Kit-Vision,Mapbox-GL Native,OpenCV-Mobile,Realm-Mobile DB,Flutter-FFI,Skia-Canvas,React Native-Reanimated,Capacitor-Push,Expo-Router,Node.js-Express,Node.js-NestJS,FastAPI-Pydantic,Django-Rest Framework,Flask-Blueprint,Go-Fiber,Go-Echo,Rust-Axum,Rust-Actix-Web,.NET Core-Minimal API,Spring Cloud-Gateway,Micronaut-DI,Quarkus-Panache,gRPC-Proto Buf,gRPC-Gateway,GraphQL-Apollo Server,GraphQL-Hasura,REST-OpenAPI 3,JSON-API Spec,WebSocket-WS,MQTT-Mosquitto,NATS-JetStream,Kafka-Streams,RabbitMQ-AMQP,Redis-PubSub,OpenTelemetry-Trace,Jaeger-Collector,Zipkin-Brave,Kong-API Gateway,Envoy-Proxy,Istio-Service Mesh,Linkerd-Sidecar,Cadence-Workflow,Temporal-Workflow,Netflix-Hystrix,Resilience4j-Circuit,Polly-.NET Retry,Swagger-UI,PostgREST,Kratos-Identity,Ory-Hydra,Keycloak-OIDC,OAuth2-JWT,JWT-Auth0,bcrypt-Password Hash,Argon2-Hash,SAML-SSO,LDAP-Directory,OpenResty-Lua,Caddy-Server,H2-HTTP/2 Server,Fastify-Schema,Deno-Fresh,Bun-Hypercore,Finagle-RPC,ServiceComb-Java Chassis,Apache Thrift-RPC,ZeroMQ-Brokerless,Tarantool-Lua App Server,Orleans-Virtual Actor,Docker-Compose,Docker-BuildKit,Docker-Slim,Kubernetes-Helm Chart,Kubernetes-Kustomize,Kubernetes-Argo CD,Kubernetes-Argo Rollouts,Kubernetes-Flux,Terraform-AWS,Terraform-GCP,Terraform-Azure,Pulumi-TypeScript,Ansible-Playbook,Chef-Cookbook,SaltStack-States,Jenkins-Pipeline,Jenkins-Shared Lib,GitHub Actions-Matrix,GitLab CI-Runner,CircleCI-Orbs,Travis CI,Bamboo-Plan,Argo Workflows,Tekton-Pipelines,DroneCI-YAML,Spinnaker-Deployment,Harness-CD,AWS-CodePipeline,GCP-Cloud Build,Azure-DevOps Pipeline,HashiCorp-Vault,Consul-Service Discovery,Packer-Image Build,Prometheus-Alertmanager,Grafana-Loki,Grafana-Tempo,Elastic-Filebeat,Elastic-APM,Datadog-APM,New Relic-Insights,Splunk-Observability,OpenSearch-Dashboards,Sentry-Error Tracking,PagerDuty-Incident,OpsGenie-Alert,Grafana-OnCall,CloudWatch-Logs,CloudTrail-Audit,Azure-Monitor,GCP-Stackdriver,Falco-Runtime Security,Trivy-Image Scan,Anchore-Grype,OSQuery-Fleet,Kube-Bench,Kube-Hunter,SonarQube-Static Scan,FOSSA-License Scan,Renovate-Dependency Bot,Dependabot-Security PR,MySQL-InnoDB,MySQL-Group Replication,PostgreSQL-PostGIS,SQLite-Fts5,MariaDB-Galera,SQL Server-Always On,Oracle-RAC,MongoDB-Aggregation,Redis-Cluster,Redis-Sentinel,Memcached,Cassandra-CQL,DynamoDB-Global Table,Cosmos DB-SQL API,ScyllaDB,Couchbase-N1QL,Firestore-Document,Neo4j-Cypher,JanusGraph,ArangoDB-AQL,FaunaDB,Elasticsearch-Kibana Lens,Solr-Lucene,OpenSearch-Dashboards,MeiliSearch,Typesense,ClickHouse-MergeTree,DuckDB-Embedded OLAP,Snowflake-Time Travel,BigQuery-Partitioning,Redshift-Spectrum,Teradata-TD SQL,Vertica-EE,Hive-HQL,HBase-Phoenix,TiDB-HTAP,OceanBase,TimescaleDB-Hypertable,InfluxDB-Flux,VictoriaMetrics,CrateDB,Pinot-Realtime OLAP,Apache Druid,Hazelcast-IMDG,Aerospike-XDR,Tarantool-Cache,VoltDB-Fast ACID,CouchDB-MapReduce,LevelDB,RocksDB,Hadoop-HDFS,Spark-DataFrame API,Spark-Structured Streaming,Apache Flink-CEP,Apache Beam-Dataflow,Kafka-Connect,Kafka-KSQL DB,Storm-Topology,Samza,Pulsar-Functions,NiFi-Flow,Debezium-CDC,Sqoop,Airflow-DAG,Prefect-Flows,Dagster-Ops,Luigi-Pipeline,dbt-Core,GreatExpectations-Data Tests,DataHub-Metadata,Amundsen-Data Catalog,Trino-SQL Query,Presto-Distributed SQL,Apache Iceberg,Apache Hudi,Delta Lake,MinIO-S3,Alluxio-Cache,JuiceFS-POSIX,Ozone-Object Store,Parquet-Columnar,Avro-Schema,ORC-File,Feather-Arrow IPC,Arrow-Flight,FeatherV2,MLflow-Tracking,Feast-Feature Store,Tecton-Feature Platform,Metaflow-ML Pipeline,Kubeflow-Pipelines,Sagemaker-SDK,Azure-ML Studio,Vertex AI-Pipelines,DataRobot-AutoML,H2O-Driverless AI,Alteryx-Designer,KNIME-Analytics,RapidMiner-Studio,Talend-Data Fabric,Informatica-IICS,Pentaho-Kettle,Glue-ETL,AWS-DataBrew,BigQuery-Data Transfer,Databricks-Delta Live,Snowflake-Snowpipe,Redpanda-Streaming,Confluent-Schema Registry,Lenses.io-Kafka Ops,PyTorch-Lightning,TensorFlow-Keras,ONNX-Runtime,scikit-learn,XGBoost,LightGBM,CatBoost,FastAI-Tabular,HuggingFace-Transformers,Sentence-Transformers,LangChain-RAG,Llama-cpp,Alpaca-LoRA,QLoRA-Fine-Tune,PEFT-Adapter,BitsAndBytes-Quant,DeepSpeed-Zero3,Flash-Attention 2,Diffusers-Stable Diffusion,Audio-Whisper,Speech-NeMo,OpenAI-Embeddings,OpenAI-GPT-4o,Anthropic-Claude Opus,Google-Gemini 1.5,Mistral-Large,MiniLM-Sentence,GTE-Base-zh,E5-Multilingual,FAISS-IVF,Milvus-Vector DB,Pinecone-Index,Weaviate-Vectorize,Qdrant-Payload,Chroma-DB,Vespa-Search,Elastic-Vector,PgVector-Extension,Redis-Vector,OpenSearch-KNN,PowerBI-DAX,PowerBI-Paginated Reports,Tableau-Prep,Tableau-Hyper,Looker-LookML,Looker-Explore,Superset-SQL Lab,Metabase-Pulse,Grafana-Dashboard,Grafana-OnCall,Kibana-Canvas,Redash-Query,Qlik Sense,Amazon QuickSight,Google Data Studio,SAS-Visual Analytics,MicroStrategy-Dossiers,DOMO-Cards,FineBI,BOARD-Toolkit,Chartio-Reports,ClicData-Dash,Zoho-Analytics,Sisense-Fusion,Datapine-Predictive,Jupyter-Notebook,JupyterLab-Extensions,Observable-Plots,Vega-Lite,ECharts-Liquid,Plotly-Dash,Bokeh-Server,Altair-Grammar,Seaborn-Catplot,Matplotlib-Pyplot,ggplot2-R,Excel-Power Query,Google Sheets-App Script,Crystal Reports,JasperReports-Server\""
   ]
  },
  {
   "cell_type": "code",
   "execution_count": 7,
   "id": "a65e7c75",
   "metadata": {},
   "outputs": [],
   "source": [
    "openai_api_key = os.getenv(\"OPENAI_API_KEY\")\n",
    "client = OpenAI(api_key=openai_api_key)\n",
    "\n",
    "def extract_skills_gpt(text, model=\"gpt-4.1-mini\"):\n",
    "    prompt = f\"\"\"\n",
    "    你現在是一位資深的軟體工程師，熟悉市面上全部跟軟體相關的技能。也擅長分析線上課程內容。\n",
    "    請從以下課程介紹中提取技能，列出技能或工具，用逗號分隔，提取技能時優先參考 {Skill_list} 中的內容，\n",
    "\n",
    "    請遵守以下規則：\n",
    "    1. 不要包含任何軟實力（如：溝通能力、團隊合作）\n",
    "    2. 僅列出技能名稱（例如：HTML、CSS、Python）\n",
    "    3. 使用繁體中文回覆\n",
    "    4. 回覆應僅包含技能清單（例：HTML,CSS,Python），不需其他解釋\n",
    "    5. 如果課程內容中涵蓋範圍比較大，請幫我從技能清單中挑選出相關的。\n",
    "\n",
    "    以下是課程內容跟介紹：\n",
    "    {text}\n",
    "    \"\"\"\n",
    "    try:\n",
    "        response = client.chat.completions.create(\n",
    "            model=model,\n",
    "            messages=[\n",
    "                {\"role\": \"user\", \"content\": prompt}\n",
    "            ],\n",
    "            temperature=0.3,\n",
    "            max_tokens=512,\n",
    "        )\n",
    "        return response.choices[0].message.content.strip()\n",
    "    except Exception as e:  \n",
    "        return f\"錯誤：{e}\" \n",
    "    \n",
    "df[\"課程技能\"] = df[\"課程內容總合\"].astype(str).apply(extract_skills_gpt) \n",
    "# df.to_csv(\"coursera_skills.csv\", index=False, encoding=\"utf-8-sig\")"
   ]
  },
  {
   "cell_type": "code",
   "execution_count": 8,
   "id": "6a187239",
   "metadata": {},
   "outputs": [
    {
     "data": {
      "text/html": [
       "<div>\n",
       "<style scoped>\n",
       "    .dataframe tbody tr th:only-of-type {\n",
       "        vertical-align: middle;\n",
       "    }\n",
       "\n",
       "    .dataframe tbody tr th {\n",
       "        vertical-align: top;\n",
       "    }\n",
       "\n",
       "    .dataframe thead th {\n",
       "        text-align: right;\n",
       "    }\n",
       "</style>\n",
       "<table border=\"1\" class=\"dataframe\">\n",
       "  <thead>\n",
       "    <tr style=\"text-align: right;\">\n",
       "      <th></th>\n",
       "      <th>課程技能</th>\n",
       "      <th>課程內容總合</th>\n",
       "    </tr>\n",
       "  </thead>\n",
       "  <tbody>\n",
       "    <tr>\n",
       "      <th>0</th>\n",
       "      <td>HTML,CSS,JavaScript,React,Git,Unix Commands,Re...</td>\n",
       "      <td>nan\\nIntroduction to Front-End Development | P...</td>\n",
       "    </tr>\n",
       "    <tr>\n",
       "      <th>1</th>\n",
       "      <td>HTML,CSS,JavaScript,React.js,Bootstrap,響應式網頁設計</td>\n",
       "      <td>4 modules\\nGet started with web development | ...</td>\n",
       "    </tr>\n",
       "    <tr>\n",
       "      <th>2</th>\n",
       "      <td>HTML,CSS,JavaScript,Node.js,Express,MongoDB,RE...</td>\n",
       "      <td>nan\\nWeb Development Mastery: HTML, CSS &amp; Java...</td>\n",
       "    </tr>\n",
       "    <tr>\n",
       "      <th>3</th>\n",
       "      <td>JavaScript,HTML,CSS,React.js,Python,Django,SQL...</td>\n",
       "      <td>nan\\nIntroduction to Front-End Development | P...</td>\n",
       "    </tr>\n",
       "    <tr>\n",
       "      <th>4</th>\n",
       "      <td>HTML,CSS,Git,GitHub,Web Server,Cloud Hosting,F...</td>\n",
       "      <td>4 modules\\nIntroduction to HTML | Links, Image...</td>\n",
       "    </tr>\n",
       "    <tr>\n",
       "      <th>...</th>\n",
       "      <td>...</td>\n",
       "      <td>...</td>\n",
       "    </tr>\n",
       "    <tr>\n",
       "      <th>95</th>\n",
       "      <td>JavaScript,HTML,CSS</td>\n",
       "      <td>nan\\nnan\\nUsability, Javascript, User Interfac...</td>\n",
       "    </tr>\n",
       "    <tr>\n",
       "      <th>96</th>\n",
       "      <td>Java,Java-8,Regular Expression-PCRE,Exception ...</td>\n",
       "      <td>12 modules\\nRegular Expressions | Exception Ha...</td>\n",
       "    </tr>\n",
       "    <tr>\n",
       "      <th>97</th>\n",
       "      <td>Rust,Rust-Axum,Rust-Actix-Web,REST-OpenAPI 3,A...</td>\n",
       "      <td>4 modules\\nWeb Servers with Rocket | RESTful A...</td>\n",
       "    </tr>\n",
       "    <tr>\n",
       "      <th>98</th>\n",
       "      <td>Cloud Computing,Artificial Intelligence,Data S...</td>\n",
       "      <td>nan\\nIntroduction to Cloud Computing | Introdu...</td>\n",
       "    </tr>\n",
       "    <tr>\n",
       "      <th>99</th>\n",
       "      <td>Python,SQL-ANSI,Bash-Shell,Linux Commands,Shel...</td>\n",
       "      <td>nan\\nIntroduction to Data Engineering | Introd...</td>\n",
       "    </tr>\n",
       "  </tbody>\n",
       "</table>\n",
       "<p>100 rows × 2 columns</p>\n",
       "</div>"
      ],
      "text/plain": [
       "                                                 課程技能  \\\n",
       "0   HTML,CSS,JavaScript,React,Git,Unix Commands,Re...   \n",
       "1      HTML,CSS,JavaScript,React.js,Bootstrap,響應式網頁設計   \n",
       "2   HTML,CSS,JavaScript,Node.js,Express,MongoDB,RE...   \n",
       "3   JavaScript,HTML,CSS,React.js,Python,Django,SQL...   \n",
       "4   HTML,CSS,Git,GitHub,Web Server,Cloud Hosting,F...   \n",
       "..                                                ...   \n",
       "95                                JavaScript,HTML,CSS   \n",
       "96  Java,Java-8,Regular Expression-PCRE,Exception ...   \n",
       "97  Rust,Rust-Axum,Rust-Actix-Web,REST-OpenAPI 3,A...   \n",
       "98  Cloud Computing,Artificial Intelligence,Data S...   \n",
       "99  Python,SQL-ANSI,Bash-Shell,Linux Commands,Shel...   \n",
       "\n",
       "                                               課程內容總合  \n",
       "0   nan\\nIntroduction to Front-End Development | P...  \n",
       "1   4 modules\\nGet started with web development | ...  \n",
       "2   nan\\nWeb Development Mastery: HTML, CSS & Java...  \n",
       "3   nan\\nIntroduction to Front-End Development | P...  \n",
       "4   4 modules\\nIntroduction to HTML | Links, Image...  \n",
       "..                                                ...  \n",
       "95  nan\\nnan\\nUsability, Javascript, User Interfac...  \n",
       "96  12 modules\\nRegular Expressions | Exception Ha...  \n",
       "97  4 modules\\nWeb Servers with Rocket | RESTful A...  \n",
       "98  nan\\nIntroduction to Cloud Computing | Introdu...  \n",
       "99  nan\\nIntroduction to Data Engineering | Introd...  \n",
       "\n",
       "[100 rows x 2 columns]"
      ]
     },
     "execution_count": 8,
     "metadata": {},
     "output_type": "execute_result"
    }
   ],
   "source": [
    "df_test = df[[\"課程技能\", \"課程內容總合\"]]\n",
    "df_test\n",
    "# print(df_test[\"課程技能\"].iloc[1])"
   ]
  },
  {
   "cell_type": "code",
   "execution_count": 9,
   "id": "2a2b1963",
   "metadata": {},
   "outputs": [],
   "source": [
    "# 先將技能欄位字串拆分成列表\n",
    "df[\"課程技能\"] = df[\"技能\"].astype(str).apply(lambda x: [s.strip() for s in x.split(\",\") if s.strip()])\n",
    "\n",
    "# 將每一列的技能列表展開為多欄\n",
    "skills_expanded = df[\"課程技能\"].apply(pd.Series)\n",
    "\n",
    "# 將欄位重新命名為 技能1, 技能2, ...\n",
    "skills_expanded.columns = [f\"技能{i+1}\" for i in skills_expanded.columns]\n",
    "\n",
    "# 合併回原本的 df\n",
    "df_final = pd.concat([df, skills_expanded], axis=1)\n",
    "\n",
    "df_final.filter(regex=\"^技能\")\n",
    "df_final.to_csv(\"coursera_skills.csv\", index=False, encoding=\"utf-8-sig\")"
   ]
  }
 ],
 "metadata": {
  "kernelspec": {
   "display_name": "Python 3",
   "language": "python",
   "name": "python3"
  },
  "language_info": {
   "codemirror_mode": {
    "name": "ipython",
    "version": 3
   },
   "file_extension": ".py",
   "mimetype": "text/x-python",
   "name": "python",
   "nbconvert_exporter": "python",
   "pygments_lexer": "ipython3",
   "version": "3.13.3"
  }
 },
 "nbformat": 4,
 "nbformat_minor": 5
}
