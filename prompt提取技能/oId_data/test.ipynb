{
 "cells": [
  {
   "cell_type": "code",
   "execution_count": 1,
   "id": "35abe850",
   "metadata": {},
   "outputs": [],
   "source": [
    "import pandas as pd\n"
   ]
  },
  {
   "cell_type": "code",
   "execution_count": 2,
   "id": "df391589",
   "metadata": {},
   "outputs": [],
   "source": [
    "df = pd.read_csv(r'C:\\Users\\student\\期末專題\\prompt提取技能\\oId_data\\104_programmers_jobs.csv')"
   ]
  },
  {
   "cell_type": "code",
   "execution_count": 19,
   "id": "9964f2d6",
   "metadata": {},
   "outputs": [
    {
     "data": {
      "text/plain": [
       "城市\n",
       "台北市    7042\n",
       "新北市    2489\n",
       "台中市    1472\n",
       "桃園市    1026\n",
       "新竹市    1017\n",
       "新竹縣     886\n",
       "高雄市     831\n",
       "台南市     403\n",
       "苗栗縣     114\n",
       "彰化縣     113\n",
       "日本       60\n",
       "南投縣      46\n",
       "越南       40\n",
       "雲林縣      37\n",
       "宜蘭縣      33\n",
       "花蓮縣      23\n",
       "嘉義縣      20\n",
       "屏東縣      17\n",
       "嘉義市      15\n",
       "其他亞      11\n",
       "基隆市      10\n",
       "東南亞       7\n",
       "新加坡       6\n",
       "泰國        5\n",
       "馬爾他       3\n",
       "馬來西       3\n",
       "印度        3\n",
       "墨西哥       3\n",
       "亞洲其       2\n",
       "美國德       2\n",
       "美東地       1\n",
       "南韓        1\n",
       "菲律賓       1\n",
       "美加地       1\n",
       "美國加       1\n",
       "中美洲       1\n",
       "東非        1\n",
       "澳洲        1\n",
       "印尼        1\n",
       "Name: count, dtype: int64"
      ]
     },
     "execution_count": 19,
     "metadata": {},
     "output_type": "execute_result"
    }
   ],
   "source": [
    "df[\"城市\"].value_counts()"
   ]
  },
  {
   "cell_type": "code",
   "execution_count": null,
   "id": "8d3a7826",
   "metadata": {},
   "outputs": [],
   "source": []
  }
 ],
 "metadata": {
  "kernelspec": {
   "display_name": "Python 3",
   "language": "python",
   "name": "python3"
  },
  "language_info": {
   "codemirror_mode": {
    "name": "ipython",
    "version": 3
   },
   "file_extension": ".py",
   "mimetype": "text/x-python",
   "name": "python",
   "nbconvert_exporter": "python",
   "pygments_lexer": "ipython3",
   "version": "3.13.3"
  }
 },
 "nbformat": 4,
 "nbformat_minor": 5
}
