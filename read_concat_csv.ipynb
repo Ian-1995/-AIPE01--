{
 "cells": [
  {
   "cell_type": "code",
   "execution_count": 1,
   "id": "43bf516c",
   "metadata": {},
   "outputs": [],
   "source": [
    "import pandas as pd"
   ]
  },
  {
   "cell_type": "code",
   "execution_count": 4,
   "id": "80e9039d",
   "metadata": {},
   "outputs": [],
   "source": [
    "df_1 = pd.read_csv(r\"C:\\Users\\user\\Desktop\\期末專題\\爬蟲\\coursera_課程\\Coursera爬取VER3\\AS\\coursera_ArtificialIntelligence_AS.csv\")"
   ]
  },
  {
   "cell_type": "code",
   "execution_count": 5,
   "id": "6b9eddd4",
   "metadata": {},
   "outputs": [
    {
     "name": "stdout",
     "output_type": "stream",
     "text": [
      "<class 'pandas.core.frame.DataFrame'>\n",
      "RangeIndex: 2950 entries, 0 to 2949\n",
      "Data columns (total 12 columns):\n",
      " #   Column    Non-Null Count  Dtype \n",
      "---  ------    --------------  ----- \n",
      " 0   課程名稱      2950 non-null   object\n",
      " 1   評分        1806 non-null   object\n",
      " 2   評論數       1806 non-null   object\n",
      " 3   Metadata  2950 non-null   object\n",
      " 4   課程網址      2950 non-null   object\n",
      " 5   課程        2215 non-null   object\n",
      " 6   技能        2921 non-null   object\n",
      " 7   課程資訊      2647 non-null   object\n",
      " 8   師資        2720 non-null   object\n",
      " 9   開課時間      2647 non-null   object\n",
      " 10  建議學習時間    2812 non-null   object\n",
      " 11  學習時長      2208 non-null   object\n",
      "dtypes: object(12)\n",
      "memory usage: 276.7+ KB\n"
     ]
    }
   ],
   "source": [
    "df_1.info()"
   ]
  },
  {
   "cell_type": "code",
   "execution_count": 6,
   "id": "3b185639",
   "metadata": {},
   "outputs": [],
   "source": [
    "df_2 = pd.read_csv(r\"C:\\Users\\user\\Desktop\\期末專題\\爬蟲\\coursera_課程\\Coursera爬取VER3\\AS\\coursera_BigData_AS.csv\")"
   ]
  },
  {
   "cell_type": "code",
   "execution_count": 7,
   "id": "9ed882fe",
   "metadata": {},
   "outputs": [
    {
     "name": "stdout",
     "output_type": "stream",
     "text": [
      "<class 'pandas.core.frame.DataFrame'>\n",
      "RangeIndex: 7584 entries, 0 to 7583\n",
      "Data columns (total 12 columns):\n",
      " #   Column    Non-Null Count  Dtype \n",
      "---  ------    --------------  ----- \n",
      " 0   課程名稱      7584 non-null   object\n",
      " 1   評分        4680 non-null   object\n",
      " 2   評論數       4680 non-null   object\n",
      " 3   Metadata  7584 non-null   object\n",
      " 4   課程網址      7584 non-null   object\n",
      " 5   課程        5374 non-null   object\n",
      " 6   技能        7492 non-null   object\n",
      " 7   課程資訊      6379 non-null   object\n",
      " 8   師資        7002 non-null   object\n",
      " 9   開課時間      6393 non-null   object\n",
      " 10  建議學習時間    7195 non-null   object\n",
      " 11  學習時長      5762 non-null   object\n",
      "dtypes: object(12)\n",
      "memory usage: 711.1+ KB\n"
     ]
    }
   ],
   "source": [
    "df_2.info()"
   ]
  },
  {
   "cell_type": "code",
   "execution_count": 4,
   "id": "fcde65c3",
   "metadata": {},
   "outputs": [
    {
     "name": "stdout",
     "output_type": "stream",
     "text": [
      "✔  Merged 10 files → merged.csv  (39312 rows)\n"
     ]
    }
   ],
   "source": [
    "\n",
    "from pathlib import Path\n",
    "import pandas as pd\n",
    "\n",
    "def merge_csv(\n",
    "    input_dir: str,\n",
    "    output_file: str = \"merged.csv\",\n",
    "    pattern: str = \"*.csv\",\n",
    "    join_type: str = \"outer\",\n",
    ") -> None:\n",
    "    \"\"\"\n",
    "    將指定資料夾內所有符合 pattern 的 CSV 直向合併成一檔。\n",
    "\n",
    "    Parameters\n",
    "    ----------\n",
    "    input_dir : str\n",
    "        存放 CSV 的資料夾路徑\n",
    "    output_file : str, default \"merged.csv\"\n",
    "        合併完成後輸出的檔名\n",
    "    pattern : str, default \"*.csv\"\n",
    "        讀取檔案的 Glob 樣式\n",
    "    join_type : str, default \"outer\"\n",
    "        欄位對齊方式；\"outer\" 取聯集、\"inner\" 取交集\n",
    "    \"\"\"\n",
    "    files = sorted(Path(input_dir).glob(pattern))\n",
    "    if not files:\n",
    "        raise FileNotFoundError(f\"No CSV files matched in: {input_dir}/{pattern}\")\n",
    "\n",
    "    df_list = [pd.read_csv(f) for f in files]\n",
    "    merged_df = pd.concat(df_list, ignore_index=True, join=join_type)\n",
    "\n",
    "    merged_df.to_csv(output_file, index=False)\n",
    "    print(f\"✔  Merged {len(files)} files → {output_file}  ({len(merged_df)} rows)\")\n",
    "\n",
    "# 範例用法\n",
    "if __name__ == \"__main__\":\n",
    "    merge_csv(r\"C:\\Users\\user\\Desktop\\期末專題\\爬蟲\\coursera_課程\\Coursera爬取VER3\\AS\")          # 讀 ./data 內所有 CSV → merged.csv\n",
    "    # merge_csv(\"./data\", \"all.csv\", \"*.tsv\")  # 亦可改副檔名或輸出檔名\n"
   ]
  },
  {
   "cell_type": "code",
   "execution_count": null,
   "id": "6663cceb",
   "metadata": {},
   "outputs": [],
   "source": []
  }
 ],
 "metadata": {
  "kernelspec": {
   "display_name": "Python 3",
   "language": "python",
   "name": "python3"
  },
  "language_info": {
   "codemirror_mode": {
    "name": "ipython",
    "version": 3
   },
   "file_extension": ".py",
   "mimetype": "text/x-python",
   "name": "python",
   "nbconvert_exporter": "python",
   "pygments_lexer": "ipython3",
   "version": "3.13.5"
  }
 },
 "nbformat": 4,
 "nbformat_minor": 5
}
